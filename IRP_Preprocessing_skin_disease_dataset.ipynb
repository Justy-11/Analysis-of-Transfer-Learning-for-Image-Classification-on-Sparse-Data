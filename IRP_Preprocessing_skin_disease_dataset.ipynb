{
  "nbformat": 4,
  "nbformat_minor": 0,
  "metadata": {
    "colab": {
      "provenance": [],
      "authorship_tag": "ABX9TyOCwrokZjJ7v+XVPtntdK3F",
      "include_colab_link": true
    },
    "kernelspec": {
      "name": "python3",
      "display_name": "Python 3"
    },
    "language_info": {
      "name": "python"
    }
  },
  "cells": [
    {
      "cell_type": "markdown",
      "metadata": {
        "id": "view-in-github",
        "colab_type": "text"
      },
      "source": [
        "<a href=\"https://colab.research.google.com/github/Justy-11/Analysis-of-Transfer-Learning-for-Image-Classification-on-Sparse-Data/blob/main/IRP_Preprocessing_skin_disease_dataset.ipynb\" target=\"_parent\"><img src=\"https://colab.research.google.com/assets/colab-badge.svg\" alt=\"Open In Colab\"/></a>"
      ]
    },
    {
      "cell_type": "code",
      "source": [
        "import shutil\n",
        "import os\n",
        "import cv2\n",
        "import numpy as np\n",
        "import tensorflow as tf\n",
        "import matplotlib.pyplot as plt\n",
        "from sklearn.model_selection import train_test_split"
      ],
      "metadata": {
        "id": "2Kd8GQ9tpC5-"
      },
      "execution_count": null,
      "outputs": []
    },
    {
      "cell_type": "code",
      "execution_count": null,
      "metadata": {
        "colab": {
          "base_uri": "https://localhost:8080/"
        },
        "id": "P0dowvKxnNOD",
        "outputId": "ddda1eaf-76c2-467b-cca1-b2b906457dc1"
      },
      "outputs": [
        {
          "output_type": "stream",
          "name": "stdout",
          "text": [
            "Mounted at /content/drive\n"
          ]
        }
      ],
      "source": [
        "from google.colab import drive\n",
        "drive.mount('/content/drive')"
      ]
    },
    {
      "cell_type": "code",
      "source": [
        "from google.colab import files\n",
        "\n",
        "uploaded = files.upload()"
      ],
      "metadata": {
        "colab": {
          "base_uri": "https://localhost:8080/",
          "height": 73
        },
        "id": "16TMQ_pYnn5g",
        "outputId": "608389a2-a62d-48d4-8a64-de7b4a546ee0"
      },
      "execution_count": null,
      "outputs": [
        {
          "output_type": "display_data",
          "data": {
            "text/plain": [
              "<IPython.core.display.HTML object>"
            ],
            "text/html": [
              "\n",
              "     <input type=\"file\" id=\"files-86b3ed28-30d8-4e12-8243-19e0abad5d44\" name=\"files[]\" multiple disabled\n",
              "        style=\"border:none\" />\n",
              "     <output id=\"result-86b3ed28-30d8-4e12-8243-19e0abad5d44\">\n",
              "      Upload widget is only available when the cell has been executed in the\n",
              "      current browser session. Please rerun this cell to enable.\n",
              "      </output>\n",
              "      <script>// Copyright 2017 Google LLC\n",
              "//\n",
              "// Licensed under the Apache License, Version 2.0 (the \"License\");\n",
              "// you may not use this file except in compliance with the License.\n",
              "// You may obtain a copy of the License at\n",
              "//\n",
              "//      http://www.apache.org/licenses/LICENSE-2.0\n",
              "//\n",
              "// Unless required by applicable law or agreed to in writing, software\n",
              "// distributed under the License is distributed on an \"AS IS\" BASIS,\n",
              "// WITHOUT WARRANTIES OR CONDITIONS OF ANY KIND, either express or implied.\n",
              "// See the License for the specific language governing permissions and\n",
              "// limitations under the License.\n",
              "\n",
              "/**\n",
              " * @fileoverview Helpers for google.colab Python module.\n",
              " */\n",
              "(function(scope) {\n",
              "function span(text, styleAttributes = {}) {\n",
              "  const element = document.createElement('span');\n",
              "  element.textContent = text;\n",
              "  for (const key of Object.keys(styleAttributes)) {\n",
              "    element.style[key] = styleAttributes[key];\n",
              "  }\n",
              "  return element;\n",
              "}\n",
              "\n",
              "// Max number of bytes which will be uploaded at a time.\n",
              "const MAX_PAYLOAD_SIZE = 100 * 1024;\n",
              "\n",
              "function _uploadFiles(inputId, outputId) {\n",
              "  const steps = uploadFilesStep(inputId, outputId);\n",
              "  const outputElement = document.getElementById(outputId);\n",
              "  // Cache steps on the outputElement to make it available for the next call\n",
              "  // to uploadFilesContinue from Python.\n",
              "  outputElement.steps = steps;\n",
              "\n",
              "  return _uploadFilesContinue(outputId);\n",
              "}\n",
              "\n",
              "// This is roughly an async generator (not supported in the browser yet),\n",
              "// where there are multiple asynchronous steps and the Python side is going\n",
              "// to poll for completion of each step.\n",
              "// This uses a Promise to block the python side on completion of each step,\n",
              "// then passes the result of the previous step as the input to the next step.\n",
              "function _uploadFilesContinue(outputId) {\n",
              "  const outputElement = document.getElementById(outputId);\n",
              "  const steps = outputElement.steps;\n",
              "\n",
              "  const next = steps.next(outputElement.lastPromiseValue);\n",
              "  return Promise.resolve(next.value.promise).then((value) => {\n",
              "    // Cache the last promise value to make it available to the next\n",
              "    // step of the generator.\n",
              "    outputElement.lastPromiseValue = value;\n",
              "    return next.value.response;\n",
              "  });\n",
              "}\n",
              "\n",
              "/**\n",
              " * Generator function which is called between each async step of the upload\n",
              " * process.\n",
              " * @param {string} inputId Element ID of the input file picker element.\n",
              " * @param {string} outputId Element ID of the output display.\n",
              " * @return {!Iterable<!Object>} Iterable of next steps.\n",
              " */\n",
              "function* uploadFilesStep(inputId, outputId) {\n",
              "  const inputElement = document.getElementById(inputId);\n",
              "  inputElement.disabled = false;\n",
              "\n",
              "  const outputElement = document.getElementById(outputId);\n",
              "  outputElement.innerHTML = '';\n",
              "\n",
              "  const pickedPromise = new Promise((resolve) => {\n",
              "    inputElement.addEventListener('change', (e) => {\n",
              "      resolve(e.target.files);\n",
              "    });\n",
              "  });\n",
              "\n",
              "  const cancel = document.createElement('button');\n",
              "  inputElement.parentElement.appendChild(cancel);\n",
              "  cancel.textContent = 'Cancel upload';\n",
              "  const cancelPromise = new Promise((resolve) => {\n",
              "    cancel.onclick = () => {\n",
              "      resolve(null);\n",
              "    };\n",
              "  });\n",
              "\n",
              "  // Wait for the user to pick the files.\n",
              "  const files = yield {\n",
              "    promise: Promise.race([pickedPromise, cancelPromise]),\n",
              "    response: {\n",
              "      action: 'starting',\n",
              "    }\n",
              "  };\n",
              "\n",
              "  cancel.remove();\n",
              "\n",
              "  // Disable the input element since further picks are not allowed.\n",
              "  inputElement.disabled = true;\n",
              "\n",
              "  if (!files) {\n",
              "    return {\n",
              "      response: {\n",
              "        action: 'complete',\n",
              "      }\n",
              "    };\n",
              "  }\n",
              "\n",
              "  for (const file of files) {\n",
              "    const li = document.createElement('li');\n",
              "    li.append(span(file.name, {fontWeight: 'bold'}));\n",
              "    li.append(span(\n",
              "        `(${file.type || 'n/a'}) - ${file.size} bytes, ` +\n",
              "        `last modified: ${\n",
              "            file.lastModifiedDate ? file.lastModifiedDate.toLocaleDateString() :\n",
              "                                    'n/a'} - `));\n",
              "    const percent = span('0% done');\n",
              "    li.appendChild(percent);\n",
              "\n",
              "    outputElement.appendChild(li);\n",
              "\n",
              "    const fileDataPromise = new Promise((resolve) => {\n",
              "      const reader = new FileReader();\n",
              "      reader.onload = (e) => {\n",
              "        resolve(e.target.result);\n",
              "      };\n",
              "      reader.readAsArrayBuffer(file);\n",
              "    });\n",
              "    // Wait for the data to be ready.\n",
              "    let fileData = yield {\n",
              "      promise: fileDataPromise,\n",
              "      response: {\n",
              "        action: 'continue',\n",
              "      }\n",
              "    };\n",
              "\n",
              "    // Use a chunked sending to avoid message size limits. See b/62115660.\n",
              "    let position = 0;\n",
              "    do {\n",
              "      const length = Math.min(fileData.byteLength - position, MAX_PAYLOAD_SIZE);\n",
              "      const chunk = new Uint8Array(fileData, position, length);\n",
              "      position += length;\n",
              "\n",
              "      const base64 = btoa(String.fromCharCode.apply(null, chunk));\n",
              "      yield {\n",
              "        response: {\n",
              "          action: 'append',\n",
              "          file: file.name,\n",
              "          data: base64,\n",
              "        },\n",
              "      };\n",
              "\n",
              "      let percentDone = fileData.byteLength === 0 ?\n",
              "          100 :\n",
              "          Math.round((position / fileData.byteLength) * 100);\n",
              "      percent.textContent = `${percentDone}% done`;\n",
              "\n",
              "    } while (position < fileData.byteLength);\n",
              "  }\n",
              "\n",
              "  // All done.\n",
              "  yield {\n",
              "    response: {\n",
              "      action: 'complete',\n",
              "    }\n",
              "  };\n",
              "}\n",
              "\n",
              "scope.google = scope.google || {};\n",
              "scope.google.colab = scope.google.colab || {};\n",
              "scope.google.colab._files = {\n",
              "  _uploadFiles,\n",
              "  _uploadFilesContinue,\n",
              "};\n",
              "})(self);\n",
              "</script> "
            ]
          },
          "metadata": {}
        },
        {
          "output_type": "stream",
          "name": "stdout",
          "text": [
            "Saving kaggle.json to kaggle.json\n"
          ]
        }
      ]
    },
    {
      "cell_type": "code",
      "source": [
        "# Move the API key to the appropriate directory\n",
        "!mkdir ~/.kaggle\n",
        "!cp kaggle.json ~/.kaggle/\n",
        "!chmod 600 ~/.kaggle/kaggle.json"
      ],
      "metadata": {
        "id": "fiPWWnSKn9bP"
      },
      "execution_count": null,
      "outputs": []
    },
    {
      "cell_type": "code",
      "source": [
        "# download skin disease dataset from kaggle API command\n",
        "!kaggle datasets download -d riyaelizashaju/skin-disease-classification-image-dataset"
      ],
      "metadata": {
        "colab": {
          "base_uri": "https://localhost:8080/"
        },
        "id": "CxqztENvoJL5",
        "outputId": "3fae5c33-a22e-498c-9d57-f189312cd7e3"
      },
      "execution_count": null,
      "outputs": [
        {
          "output_type": "stream",
          "name": "stdout",
          "text": [
            "Downloading skin-disease-classification-image-dataset.zip to /content\n",
            " 94% 159M/169M [00:01<00:00, 113MB/s] \n",
            "100% 169M/169M [00:01<00:00, 96.9MB/s]\n"
          ]
        }
      ]
    },
    {
      "cell_type": "code",
      "source": [
        "# unzip dataset\n",
        "!unzip skin-disease-classification-image-dataset.zip"
      ],
      "metadata": {
        "colab": {
          "base_uri": "https://localhost:8080/"
        },
        "id": "QEHGjARspZmJ",
        "outputId": "80de2ff6-cea5-4d46-94d4-654889b2b6ef"
      },
      "execution_count": null,
      "outputs": [
        {
          "output_type": "stream",
          "name": "stdout",
          "text": [
            "Archive:  skin-disease-classification-image-dataset.zip\n",
            "  inflating: Split_smol/train/Actinic keratosis/ISIC_0024468.jpg  \n",
            "  inflating: Split_smol/train/Actinic keratosis/ISIC_0024470.jpg  \n",
            "  inflating: Split_smol/train/Actinic keratosis/ISIC_0024707.jpg  \n",
            "  inflating: Split_smol/train/Actinic keratosis/ISIC_0024763.jpg  \n",
            "  inflating: Split_smol/train/Actinic keratosis/ISIC_0024771.jpg  \n",
            "  inflating: Split_smol/train/Actinic keratosis/ISIC_0024800.jpg  \n",
            "  inflating: Split_smol/train/Actinic keratosis/ISIC_0024913.jpg  \n",
            "  inflating: Split_smol/train/Actinic keratosis/ISIC_0024948.jpg  \n",
            "  inflating: Split_smol/train/Actinic keratosis/ISIC_0025780.jpg  \n",
            "  inflating: Split_smol/train/Actinic keratosis/ISIC_0025953.jpg  \n",
            "  inflating: Split_smol/train/Actinic keratosis/ISIC_0025957.jpg  \n",
            "  inflating: Split_smol/train/Actinic keratosis/ISIC_0025992.jpg  \n",
            "  inflating: Split_smol/train/Actinic keratosis/ISIC_0026149.jpg  \n",
            "  inflating: Split_smol/train/Actinic keratosis/ISIC_0026171.jpg  \n",
            "  inflating: Split_smol/train/Actinic keratosis/ISIC_0026457.jpg  \n",
            "  inflating: Split_smol/train/Actinic keratosis/ISIC_0026525.jpg  \n",
            "  inflating: Split_smol/train/Actinic keratosis/ISIC_0026575.jpg  \n",
            "  inflating: Split_smol/train/Actinic keratosis/ISIC_0026625.jpg  \n",
            "  inflating: Split_smol/train/Actinic keratosis/ISIC_0026626.jpg  \n",
            "  inflating: Split_smol/train/Actinic keratosis/ISIC_0026702.jpg  \n",
            "  inflating: Split_smol/train/Actinic keratosis/ISIC_0026709.jpg  \n",
            "  inflating: Split_smol/train/Actinic keratosis/ISIC_0026729.jpg  \n",
            "  inflating: Split_smol/train/Actinic keratosis/ISIC_0026848.jpg  \n",
            "  inflating: Split_smol/train/Actinic keratosis/ISIC_0026857.jpg  \n",
            "  inflating: Split_smol/train/Actinic keratosis/ISIC_0026905.jpg  \n",
            "  inflating: Split_smol/train/Actinic keratosis/ISIC_0027172.jpg  \n",
            "  inflating: Split_smol/train/Actinic keratosis/ISIC_0027254.jpg  \n",
            "  inflating: Split_smol/train/Actinic keratosis/ISIC_0027447.jpg  \n",
            "  inflating: Split_smol/train/Actinic keratosis/ISIC_0027536.jpg  \n",
            "  inflating: Split_smol/train/Actinic keratosis/ISIC_0027562.jpg  \n",
            "  inflating: Split_smol/train/Actinic keratosis/ISIC_0027588.jpg  \n",
            "  inflating: Split_smol/train/Actinic keratosis/ISIC_0027615.jpg  \n",
            "  inflating: Split_smol/train/Actinic keratosis/ISIC_0027650.jpg  \n",
            "  inflating: Split_smol/train/Actinic keratosis/ISIC_0027829.jpg  \n",
            "  inflating: Split_smol/train/Actinic keratosis/ISIC_0027884.jpg  \n",
            "  inflating: Split_smol/train/Actinic keratosis/ISIC_0027950.jpg  \n",
            "  inflating: Split_smol/train/Actinic keratosis/ISIC_0028063.jpg  \n",
            "  inflating: Split_smol/train/Actinic keratosis/ISIC_0028076.jpg  \n",
            "  inflating: Split_smol/train/Actinic keratosis/ISIC_0028190.jpg  \n",
            "  inflating: Split_smol/train/Actinic keratosis/ISIC_0028314.jpg  \n",
            "  inflating: Split_smol/train/Actinic keratosis/ISIC_0028370.jpg  \n",
            "  inflating: Split_smol/train/Actinic keratosis/ISIC_0028393.jpg  \n",
            "  inflating: Split_smol/train/Actinic keratosis/ISIC_0028517.jpg  \n",
            "  inflating: Split_smol/train/Actinic keratosis/ISIC_0028558.jpg  \n",
            "  inflating: Split_smol/train/Actinic keratosis/ISIC_0028619.jpg  \n",
            "  inflating: Split_smol/train/Actinic keratosis/ISIC_0028854.jpg  \n",
            "  inflating: Split_smol/train/Actinic keratosis/ISIC_0028941.jpg  \n",
            "  inflating: Split_smol/train/Actinic keratosis/ISIC_0028990.jpg  \n",
            "  inflating: Split_smol/train/Actinic keratosis/ISIC_0029041.jpg  \n",
            "  inflating: Split_smol/train/Actinic keratosis/ISIC_0029133.jpg  \n",
            "  inflating: Split_smol/train/Actinic keratosis/ISIC_0029141.jpg  \n",
            "  inflating: Split_smol/train/Actinic keratosis/ISIC_0029309.jpg  \n",
            "  inflating: Split_smol/train/Actinic keratosis/ISIC_0029460.jpg  \n",
            "  inflating: Split_smol/train/Actinic keratosis/ISIC_0029500.jpg  \n",
            "  inflating: Split_smol/train/Actinic keratosis/ISIC_0029659.jpg  \n",
            "  inflating: Split_smol/train/Actinic keratosis/ISIC_0029713.jpg  \n",
            "  inflating: Split_smol/train/Actinic keratosis/ISIC_0029827.jpg  \n",
            "  inflating: Split_smol/train/Actinic keratosis/ISIC_0029830.jpg  \n",
            "  inflating: Split_smol/train/Actinic keratosis/ISIC_0029840.jpg  \n",
            "  inflating: Split_smol/train/Actinic keratosis/ISIC_0029900.jpg  \n",
            "  inflating: Split_smol/train/Actinic keratosis/ISIC_0029930.jpg  \n",
            "  inflating: Split_smol/train/Actinic keratosis/ISIC_0030133.jpg  \n",
            "  inflating: Split_smol/train/Actinic keratosis/ISIC_0030142.jpg  \n",
            "  inflating: Split_smol/train/Actinic keratosis/ISIC_0030344.jpg  \n",
            "  inflating: Split_smol/train/Actinic keratosis/ISIC_0030408.jpg  \n",
            "  inflating: Split_smol/train/Actinic keratosis/ISIC_0030463.jpg  \n",
            "  inflating: Split_smol/train/Actinic keratosis/ISIC_0030655.jpg  \n",
            "  inflating: Split_smol/train/Actinic keratosis/ISIC_0030730.jpg  \n",
            "  inflating: Split_smol/train/Actinic keratosis/ISIC_0030825.jpg  \n",
            "  inflating: Split_smol/train/Actinic keratosis/ISIC_0030877.jpg  \n",
            "  inflating: Split_smol/train/Actinic keratosis/ISIC_0031040.jpg  \n",
            "  inflating: Split_smol/train/Actinic keratosis/ISIC_0031108.jpg  \n",
            "  inflating: Split_smol/train/Actinic keratosis/ISIC_0031228.jpg  \n",
            "  inflating: Split_smol/train/Actinic keratosis/ISIC_0031292.jpg  \n",
            "  inflating: Split_smol/train/Actinic keratosis/ISIC_0031335.jpg  \n",
            "  inflating: Split_smol/train/Actinic keratosis/ISIC_0031381.jpg  \n",
            "  inflating: Split_smol/train/Actinic keratosis/ISIC_0031430.jpg  \n",
            "  inflating: Split_smol/train/Actinic keratosis/ISIC_0031506.jpg  \n",
            "  inflating: Split_smol/train/Actinic keratosis/ISIC_0031922.jpg  \n",
            "  inflating: Split_smol/train/Actinic keratosis/ISIC_0032135.jpg  \n",
            "  inflating: Split_smol/train/Atopic Dermatitis/1_14.jpg  \n",
            "  inflating: Split_smol/train/Atopic Dermatitis/1_15.jpg  \n",
            "  inflating: Split_smol/train/Atopic Dermatitis/1_16.jpg  \n",
            "  inflating: Split_smol/train/Atopic Dermatitis/1_17.jpg  \n",
            "  inflating: Split_smol/train/Atopic Dermatitis/1_18.jpg  \n",
            "  inflating: Split_smol/train/Atopic Dermatitis/1_19.jpg  \n",
            "  inflating: Split_smol/train/Atopic Dermatitis/1_20.jpg  \n",
            "  inflating: Split_smol/train/Atopic Dermatitis/1_21.jpg  \n",
            "  inflating: Split_smol/train/Atopic Dermatitis/1_22.jpg  \n",
            "  inflating: Split_smol/train/Atopic Dermatitis/1_23.jpg  \n",
            "  inflating: Split_smol/train/Atopic Dermatitis/1_24.jpg  \n",
            "  inflating: Split_smol/train/Atopic Dermatitis/1_25.jpg  \n",
            "  inflating: Split_smol/train/Atopic Dermatitis/1_26.jpg  \n",
            "  inflating: Split_smol/train/Atopic Dermatitis/1_27.jpg  \n",
            "  inflating: Split_smol/train/Atopic Dermatitis/1_29.jpg  \n",
            "  inflating: Split_smol/train/Atopic Dermatitis/1_30.jpg  \n",
            "  inflating: Split_smol/train/Atopic Dermatitis/1_31.jpg  \n",
            "  inflating: Split_smol/train/Atopic Dermatitis/1_32.jpg  \n",
            "  inflating: Split_smol/train/Atopic Dermatitis/1_35.jpg  \n",
            "  inflating: Split_smol/train/Atopic Dermatitis/1_36.jpg  \n",
            "  inflating: Split_smol/train/Atopic Dermatitis/1_39.jpg  \n",
            "  inflating: Split_smol/train/Atopic Dermatitis/1_41.jpg  \n",
            "  inflating: Split_smol/train/Atopic Dermatitis/1_42.jpg  \n",
            "  inflating: Split_smol/train/Atopic Dermatitis/1_43.jpg  \n",
            "  inflating: Split_smol/train/Atopic Dermatitis/1_44.jpg  \n",
            "  inflating: Split_smol/train/Atopic Dermatitis/1_45.jpg  \n",
            "  inflating: Split_smol/train/Atopic Dermatitis/1_46.jpg  \n",
            "  inflating: Split_smol/train/Atopic Dermatitis/1_47.jpg  \n",
            "  inflating: Split_smol/train/Atopic Dermatitis/1_48.jpg  \n",
            "  inflating: Split_smol/train/Atopic Dermatitis/1_49.jpg  \n",
            "  inflating: Split_smol/train/Atopic Dermatitis/1_51.jpg  \n",
            "  inflating: Split_smol/train/Atopic Dermatitis/1_52.jpg  \n",
            "  inflating: Split_smol/train/Atopic Dermatitis/1_53.jpg  \n",
            "  inflating: Split_smol/train/Atopic Dermatitis/1_55.jpg  \n",
            "  inflating: Split_smol/train/Atopic Dermatitis/1_57.jpg  \n",
            "  inflating: Split_smol/train/Atopic Dermatitis/1_58.jpg  \n",
            "  inflating: Split_smol/train/Atopic Dermatitis/1_59.jpg  \n",
            "  inflating: Split_smol/train/Atopic Dermatitis/1_60.jpg  \n",
            "  inflating: Split_smol/train/Atopic Dermatitis/1_62.jpg  \n",
            "  inflating: Split_smol/train/Atopic Dermatitis/1_63.jpg  \n",
            "  inflating: Split_smol/train/Atopic Dermatitis/1_64.jpg  \n",
            "  inflating: Split_smol/train/Atopic Dermatitis/1_66.jpg  \n",
            "  inflating: Split_smol/train/Atopic Dermatitis/1_67.jpg  \n",
            "  inflating: Split_smol/train/Atopic Dermatitis/1_68.jpg  \n",
            "  inflating: Split_smol/train/Atopic Dermatitis/1_69.jpg  \n",
            "  inflating: Split_smol/train/Atopic Dermatitis/1_71.jpg  \n",
            "  inflating: Split_smol/train/Atopic Dermatitis/1_73.jpg  \n",
            "  inflating: Split_smol/train/Atopic Dermatitis/1_74.jpg  \n",
            "  inflating: Split_smol/train/Atopic Dermatitis/1_76.jpg  \n",
            "  inflating: Split_smol/train/Atopic Dermatitis/1_77.jpg  \n",
            "  inflating: Split_smol/train/Atopic Dermatitis/1_78.jpg  \n",
            "  inflating: Split_smol/train/Atopic Dermatitis/1_79.jpg  \n",
            "  inflating: Split_smol/train/Atopic Dermatitis/1_80.jpg  \n",
            "  inflating: Split_smol/train/Atopic Dermatitis/1_81.jpg  \n",
            "  inflating: Split_smol/train/Atopic Dermatitis/1_82.jpg  \n",
            "  inflating: Split_smol/train/Atopic Dermatitis/1_83.jpg  \n",
            "  inflating: Split_smol/train/Atopic Dermatitis/1_84.jpg  \n",
            "  inflating: Split_smol/train/Atopic Dermatitis/2_0.jpg  \n",
            "  inflating: Split_smol/train/Atopic Dermatitis/2_1.jpg  \n",
            "  inflating: Split_smol/train/Atopic Dermatitis/2_10.jpg  \n",
            "  inflating: Split_smol/train/Atopic Dermatitis/2_11.jpg  \n",
            "  inflating: Split_smol/train/Atopic Dermatitis/2_12.jpg  \n",
            "  inflating: Split_smol/train/Atopic Dermatitis/2_13.jpg  \n",
            "  inflating: Split_smol/train/Atopic Dermatitis/2_15.jpg  \n",
            "  inflating: Split_smol/train/Atopic Dermatitis/2_17.jpg  \n",
            "  inflating: Split_smol/train/Atopic Dermatitis/2_18.jpg  \n",
            "  inflating: Split_smol/train/Atopic Dermatitis/2_19.jpg  \n",
            "  inflating: Split_smol/train/Atopic Dermatitis/2_2.jpg  \n",
            "  inflating: Split_smol/train/Atopic Dermatitis/2_20.jpg  \n",
            "  inflating: Split_smol/train/Atopic Dermatitis/2_21.jpg  \n",
            "  inflating: Split_smol/train/Atopic Dermatitis/2_22.jpg  \n",
            "  inflating: Split_smol/train/Atopic Dermatitis/2_23.jpg  \n",
            "  inflating: Split_smol/train/Atopic Dermatitis/2_24.jpg  \n",
            "  inflating: Split_smol/train/Atopic Dermatitis/2_25.jpg  \n",
            "  inflating: Split_smol/train/Atopic Dermatitis/2_27.jpg  \n",
            "  inflating: Split_smol/train/Atopic Dermatitis/2_4.jpg  \n",
            "  inflating: Split_smol/train/Atopic Dermatitis/2_5.jpg  \n",
            "  inflating: Split_smol/train/Atopic Dermatitis/2_6.jpg  \n",
            "  inflating: Split_smol/train/Atopic Dermatitis/2_7.jpg  \n",
            "  inflating: Split_smol/train/Atopic Dermatitis/2_8.jpg  \n",
            "  inflating: Split_smol/train/Atopic Dermatitis/2_9.jpg  \n",
            "  inflating: Split_smol/train/Benign keratosis/ISIC_0014567_downsampled.jpg  \n",
            "  inflating: Split_smol/train/Benign keratosis/ISIC_0014568_downsampled.jpg  \n",
            "  inflating: Split_smol/train/Benign keratosis/ISIC_0014569_downsampled.jpg  \n",
            "  inflating: Split_smol/train/Benign keratosis/ISIC_0014571_downsampled.jpg  \n",
            "  inflating: Split_smol/train/Benign keratosis/ISIC_0014572_downsampled.jpg  \n",
            "  inflating: Split_smol/train/Benign keratosis/ISIC_0014573_downsampled.jpg  \n",
            "  inflating: Split_smol/train/Benign keratosis/ISIC_0014574_downsampled.jpg  \n",
            "  inflating: Split_smol/train/Benign keratosis/ISIC_0014575_downsampled.jpg  \n",
            "  inflating: Split_smol/train/Benign keratosis/ISIC_0014576_downsampled.jpg  \n",
            "  inflating: Split_smol/train/Benign keratosis/ISIC_0014577_downsampled.jpg  \n",
            "  inflating: Split_smol/train/Benign keratosis/ISIC_0014578_downsampled.jpg  \n",
            "  inflating: Split_smol/train/Benign keratosis/ISIC_0014581_downsampled.jpg  \n",
            "  inflating: Split_smol/train/Benign keratosis/ISIC_0014585_downsampled.jpg  \n",
            "  inflating: Split_smol/train/Benign keratosis/ISIC_0014586_downsampled.jpg  \n",
            "  inflating: Split_smol/train/Benign keratosis/ISIC_0014587_downsampled.jpg  \n",
            "  inflating: Split_smol/train/Benign keratosis/ISIC_0014588_downsampled.jpg  \n",
            "  inflating: Split_smol/train/Benign keratosis/ISIC_0014589_downsampled.jpg  \n",
            "  inflating: Split_smol/train/Benign keratosis/ISIC_0014592_downsampled.jpg  \n",
            "  inflating: Split_smol/train/Benign keratosis/ISIC_0014593_downsampled.jpg  \n",
            "  inflating: Split_smol/train/Benign keratosis/ISIC_0014594_downsampled.jpg  \n",
            "  inflating: Split_smol/train/Benign keratosis/ISIC_0014595_downsampled.jpg  \n",
            "  inflating: Split_smol/train/Benign keratosis/ISIC_0014596_downsampled.jpg  \n",
            "  inflating: Split_smol/train/Benign keratosis/ISIC_0014597_downsampled.jpg  \n",
            "  inflating: Split_smol/train/Benign keratosis/ISIC_0014598_downsampled.jpg  \n",
            "  inflating: Split_smol/train/Benign keratosis/ISIC_0014599_downsampled.jpg  \n",
            "  inflating: Split_smol/train/Benign keratosis/ISIC_0014600_downsampled.jpg  \n",
            "  inflating: Split_smol/train/Benign keratosis/ISIC_0014601_downsampled.jpg  \n",
            "  inflating: Split_smol/train/Benign keratosis/ISIC_0014602_downsampled.jpg  \n",
            "  inflating: Split_smol/train/Benign keratosis/ISIC_0014606_downsampled.jpg  \n",
            "  inflating: Split_smol/train/Benign keratosis/ISIC_0014607_downsampled.jpg  \n",
            "  inflating: Split_smol/train/Benign keratosis/ISIC_0014608_downsampled.jpg  \n",
            "  inflating: Split_smol/train/Benign keratosis/ISIC_0014610_downsampled.jpg  \n",
            "  inflating: Split_smol/train/Benign keratosis/ISIC_0014611_downsampled.jpg  \n",
            "  inflating: Split_smol/train/Benign keratosis/ISIC_0014612_downsampled.jpg  \n",
            "  inflating: Split_smol/train/Benign keratosis/ISIC_0014615_downsampled.jpg  \n",
            "  inflating: Split_smol/train/Benign keratosis/ISIC_0014616_downsampled.jpg  \n",
            "  inflating: Split_smol/train/Benign keratosis/ISIC_0014618_downsampled.jpg  \n",
            "  inflating: Split_smol/train/Benign keratosis/ISIC_0014620_downsampled.jpg  \n",
            "  inflating: Split_smol/train/Benign keratosis/ISIC_0014623_downsampled.jpg  \n",
            "  inflating: Split_smol/train/Benign keratosis/ISIC_0014624_downsampled.jpg  \n",
            "  inflating: Split_smol/train/Benign keratosis/ISIC_0014625_downsampled.jpg  \n",
            "  inflating: Split_smol/train/Benign keratosis/ISIC_0014626_downsampled.jpg  \n",
            "  inflating: Split_smol/train/Benign keratosis/ISIC_0014628_downsampled.jpg  \n",
            "  inflating: Split_smol/train/Benign keratosis/ISIC_0014629_downsampled.jpg  \n",
            "  inflating: Split_smol/train/Benign keratosis/ISIC_0014630_downsampled.jpg  \n",
            "  inflating: Split_smol/train/Benign keratosis/ISIC_0014631_downsampled.jpg  \n",
            "  inflating: Split_smol/train/Benign keratosis/ISIC_0014632_downsampled.jpg  \n",
            "  inflating: Split_smol/train/Benign keratosis/ISIC_0014634_downsampled.jpg  \n",
            "  inflating: Split_smol/train/Benign keratosis/ISIC_0014635_downsampled.jpg  \n",
            "  inflating: Split_smol/train/Benign keratosis/ISIC_0014636_downsampled.jpg  \n",
            "  inflating: Split_smol/train/Benign keratosis/ISIC_0014637_downsampled.jpg  \n",
            "  inflating: Split_smol/train/Benign keratosis/ISIC_0014638_downsampled.jpg  \n",
            "  inflating: Split_smol/train/Benign keratosis/ISIC_0014639_downsampled.jpg  \n",
            "  inflating: Split_smol/train/Benign keratosis/ISIC_0014640_downsampled.jpg  \n",
            "  inflating: Split_smol/train/Benign keratosis/ISIC_0014642_downsampled.jpg  \n",
            "  inflating: Split_smol/train/Benign keratosis/ISIC_0014643_downsampled.jpg  \n",
            "  inflating: Split_smol/train/Benign keratosis/ISIC_0014644_downsampled.jpg  \n",
            "  inflating: Split_smol/train/Benign keratosis/ISIC_0014646_downsampled.jpg  \n",
            "  inflating: Split_smol/train/Benign keratosis/ISIC_0014647_downsampled.jpg  \n",
            "  inflating: Split_smol/train/Benign keratosis/ISIC_0014648_downsampled.jpg  \n",
            "  inflating: Split_smol/train/Benign keratosis/ISIC_0014650_downsampled.jpg  \n",
            "  inflating: Split_smol/train/Benign keratosis/ISIC_0014652_downsampled.jpg  \n",
            "  inflating: Split_smol/train/Benign keratosis/ISIC_0014654_downsampled.jpg  \n",
            "  inflating: Split_smol/train/Benign keratosis/ISIC_0014711_downsampled.jpg  \n",
            "  inflating: Split_smol/train/Benign keratosis/ISIC_0014712_downsampled.jpg  \n",
            "  inflating: Split_smol/train/Benign keratosis/ISIC_0014723_downsampled.jpg  \n",
            "  inflating: Split_smol/train/Benign keratosis/ISIC_0014770_downsampled.jpg  \n",
            "  inflating: Split_smol/train/Benign keratosis/ISIC_0014793_downsampled.jpg  \n",
            "  inflating: Split_smol/train/Benign keratosis/ISIC_0014804_downsampled.jpg  \n",
            "  inflating: Split_smol/train/Benign keratosis/ISIC_0014806_downsampled.jpg  \n",
            "  inflating: Split_smol/train/Benign keratosis/ISIC_0014811_downsampled.jpg  \n",
            "  inflating: Split_smol/train/Benign keratosis/ISIC_0014819_downsampled.jpg  \n",
            "  inflating: Split_smol/train/Benign keratosis/ISIC_0014823_downsampled.jpg  \n",
            "  inflating: Split_smol/train/Benign keratosis/ISIC_0014831_downsampled.jpg  \n",
            "  inflating: Split_smol/train/Benign keratosis/ISIC_0015006_downsampled.jpg  \n",
            "  inflating: Split_smol/train/Benign keratosis/ISIC_0015032_downsampled.jpg  \n",
            "  inflating: Split_smol/train/Benign keratosis/ISIC_0015044_downsampled.jpg  \n",
            "  inflating: Split_smol/train/Benign keratosis/ISIC_0015062_downsampled.jpg  \n",
            "  inflating: Split_smol/train/Benign keratosis/ISIC_0015112_downsampled.jpg  \n",
            "  inflating: Split_smol/train/Benign keratosis/ISIC_0015113_downsampled.jpg  \n",
            "  inflating: Split_smol/train/Dermatofibroma/ISIC_0024318.jpg  \n",
            "  inflating: Split_smol/train/Dermatofibroma/ISIC_0024386.jpg  \n",
            "  inflating: Split_smol/train/Dermatofibroma/ISIC_0024396.jpg  \n",
            "  inflating: Split_smol/train/Dermatofibroma/ISIC_0024553.jpg  \n",
            "  inflating: Split_smol/train/Dermatofibroma/ISIC_0024845.jpg  \n",
            "  inflating: Split_smol/train/Dermatofibroma/ISIC_0025223.jpg  \n",
            "  inflating: Split_smol/train/Dermatofibroma/ISIC_0025302.jpg  \n",
            "  inflating: Split_smol/train/Dermatofibroma/ISIC_0025314.jpg  \n",
            "  inflating: Split_smol/train/Dermatofibroma/ISIC_0025373.jpg  \n",
            "  inflating: Split_smol/train/Dermatofibroma/ISIC_0025504.jpg  \n",
            "  inflating: Split_smol/train/Dermatofibroma/ISIC_0025594.jpg  \n",
            "  inflating: Split_smol/train/Dermatofibroma/ISIC_0025622.jpg  \n",
            "  inflating: Split_smol/train/Dermatofibroma/ISIC_0025668.jpg  \n",
            "  inflating: Split_smol/train/Dermatofibroma/ISIC_0025771.jpg  \n",
            "  inflating: Split_smol/train/Dermatofibroma/ISIC_0025903.jpg  \n",
            "  inflating: Split_smol/train/Dermatofibroma/ISIC_0025911.jpg  \n",
            "  inflating: Split_smol/train/Dermatofibroma/ISIC_0025954.jpg  \n",
            "  inflating: Split_smol/train/Dermatofibroma/ISIC_0025980.jpg  \n",
            "  inflating: Split_smol/train/Dermatofibroma/ISIC_0026417.jpg  \n",
            "  inflating: Split_smol/train/Dermatofibroma/ISIC_0026471.jpg  \n",
            "  inflating: Split_smol/train/Dermatofibroma/ISIC_0026629.jpg  \n",
            "  inflating: Split_smol/train/Dermatofibroma/ISIC_0027008.jpg  \n",
            "  inflating: Split_smol/train/Dermatofibroma/ISIC_0027044.jpg  \n",
            "  inflating: Split_smol/train/Dermatofibroma/ISIC_0027107.jpg  \n",
            "  inflating: Split_smol/train/Dermatofibroma/ISIC_0027118.jpg  \n",
            "  inflating: Split_smol/train/Dermatofibroma/ISIC_0027141.jpg  \n",
            "  inflating: Split_smol/train/Dermatofibroma/ISIC_0027188.jpg  \n",
            "  inflating: Split_smol/train/Dermatofibroma/ISIC_0027488.jpg  \n",
            "  inflating: Split_smol/train/Dermatofibroma/ISIC_0027598.jpg  \n",
            "  inflating: Split_smol/train/Dermatofibroma/ISIC_0027613.jpg  \n",
            "  inflating: Split_smol/train/Dermatofibroma/ISIC_0027727.jpg  \n",
            "  inflating: Split_smol/train/Dermatofibroma/ISIC_0027745.jpg  \n",
            "  inflating: Split_smol/train/Dermatofibroma/ISIC_0027876.jpg  \n",
            "  inflating: Split_smol/train/Dermatofibroma/ISIC_0028346.jpg  \n",
            "  inflating: Split_smol/train/Dermatofibroma/ISIC_0028651.jpg  \n",
            "  inflating: Split_smol/train/Dermatofibroma/ISIC_0028735.jpg  \n",
            "  inflating: Split_smol/train/Dermatofibroma/ISIC_0028790.jpg  \n",
            "  inflating: Split_smol/train/Dermatofibroma/ISIC_0028880.jpg  \n",
            "  inflating: Split_smol/train/Dermatofibroma/ISIC_0028926.jpg  \n",
            "  inflating: Split_smol/train/Dermatofibroma/ISIC_0029052.jpg  \n",
            "  inflating: Split_smol/train/Dermatofibroma/ISIC_0029130.jpg  \n",
            "  inflating: Split_smol/train/Dermatofibroma/ISIC_0029177.jpg  \n",
            "  inflating: Split_smol/train/Dermatofibroma/ISIC_0029248.jpg  \n",
            "  inflating: Split_smol/train/Dermatofibroma/ISIC_0029783.jpg  \n",
            "  inflating: Split_smol/train/Dermatofibroma/ISIC_0029891.jpg  \n",
            "  inflating: Split_smol/train/Dermatofibroma/ISIC_0029962.jpg  \n",
            "  inflating: Split_smol/train/Dermatofibroma/ISIC_0029973.jpg  \n",
            "  inflating: Split_smol/train/Dermatofibroma/ISIC_0030011.jpg  \n",
            "  inflating: Split_smol/train/Dermatofibroma/ISIC_0030015.jpg  \n",
            "  inflating: Split_smol/train/Dermatofibroma/ISIC_0030021.jpg  \n",
            "  inflating: Split_smol/train/Dermatofibroma/ISIC_0030244.jpg  \n",
            "  inflating: Split_smol/train/Dermatofibroma/ISIC_0030321.jpg  \n",
            "  inflating: Split_smol/train/Dermatofibroma/ISIC_0030579.jpg  \n",
            "  inflating: Split_smol/train/Dermatofibroma/ISIC_0030665.jpg  \n",
            "  inflating: Split_smol/train/Dermatofibroma/ISIC_0030757.jpg  \n",
            "  inflating: Split_smol/train/Dermatofibroma/ISIC_0030830.jpg  \n",
            "  inflating: Split_smol/train/Dermatofibroma/ISIC_0030870.jpg  \n",
            "  inflating: Split_smol/train/Dermatofibroma/ISIC_0031002.jpg  \n",
            "  inflating: Split_smol/train/Dermatofibroma/ISIC_0031123.jpg  \n",
            "  inflating: Split_smol/train/Dermatofibroma/ISIC_0031257.jpg  \n",
            "  inflating: Split_smol/train/Dermatofibroma/ISIC_0031271.jpg  \n",
            "  inflating: Split_smol/train/Dermatofibroma/ISIC_0031309.jpg  \n",
            "  inflating: Split_smol/train/Dermatofibroma/ISIC_0031344.jpg  \n",
            "  inflating: Split_smol/train/Dermatofibroma/ISIC_0031358.jpg  \n",
            "  inflating: Split_smol/train/Dermatofibroma/ISIC_0031372.jpg  \n",
            "  inflating: Split_smol/train/Dermatofibroma/ISIC_0031429.jpg  \n",
            "  inflating: Split_smol/train/Dermatofibroma/ISIC_0031735.jpg  \n",
            "  inflating: Split_smol/train/Dermatofibroma/ISIC_0031799.jpg  \n",
            "  inflating: Split_smol/train/Dermatofibroma/ISIC_0031827.jpg  \n",
            "  inflating: Split_smol/train/Dermatofibroma/ISIC_0032114.jpg  \n",
            "  inflating: Split_smol/train/Dermatofibroma/ISIC_0032138.jpg  \n",
            "  inflating: Split_smol/train/Dermatofibroma/ISIC_0032247.jpg  \n",
            "  inflating: Split_smol/train/Dermatofibroma/ISIC_0032410.jpg  \n",
            "  inflating: Split_smol/train/Dermatofibroma/ISIC_0032468.jpg  \n",
            "  inflating: Split_smol/train/Dermatofibroma/ISIC_0032613.jpg  \n",
            "  inflating: Split_smol/train/Dermatofibroma/ISIC_0032941.jpg  \n",
            "  inflating: Split_smol/train/Dermatofibroma/ISIC_0033005.jpg  \n",
            "  inflating: Split_smol/train/Dermatofibroma/ISIC_0033256.jpg  \n",
            "  inflating: Split_smol/train/Dermatofibroma/ISIC_0033422.jpg  \n",
            "  inflating: Split_smol/train/Dermatofibroma/ISIC_0033554.jpg  \n",
            "  inflating: Split_smol/train/Melanocytic nevus/ISIC_0000000.jpg  \n",
            "  inflating: Split_smol/train/Melanocytic nevus/ISIC_0000003.jpg  \n",
            "  inflating: Split_smol/train/Melanocytic nevus/ISIC_0000006.jpg  \n",
            "  inflating: Split_smol/train/Melanocytic nevus/ISIC_0000007.jpg  \n",
            "  inflating: Split_smol/train/Melanocytic nevus/ISIC_0000008.jpg  \n",
            "  inflating: Split_smol/train/Melanocytic nevus/ISIC_0000009.jpg  \n",
            "  inflating: Split_smol/train/Melanocytic nevus/ISIC_0000010.jpg  \n",
            "  inflating: Split_smol/train/Melanocytic nevus/ISIC_0000011.jpg  \n",
            "  inflating: Split_smol/train/Melanocytic nevus/ISIC_0000012.jpg  \n",
            "  inflating: Split_smol/train/Melanocytic nevus/ISIC_0000014.jpg  \n",
            "  inflating: Split_smol/train/Melanocytic nevus/ISIC_0000018_downsampled.jpg  \n",
            "  inflating: Split_smol/train/Melanocytic nevus/ISIC_0000021_downsampled.jpg  \n",
            "  inflating: Split_smol/train/Melanocytic nevus/ISIC_0000023_downsampled.jpg  \n",
            "  inflating: Split_smol/train/Melanocytic nevus/ISIC_0000024_downsampled.jpg  \n",
            "  inflating: Split_smol/train/Melanocytic nevus/ISIC_0000027_downsampled.jpg  \n",
            "  inflating: Split_smol/train/Melanocytic nevus/ISIC_0000028_downsampled.jpg  \n",
            "  inflating: Split_smol/train/Melanocytic nevus/ISIC_0000037_downsampled.jpg  \n",
            "  inflating: Split_smol/train/Melanocytic nevus/ISIC_0000039_downsampled.jpg  \n",
            "  inflating: Split_smol/train/Melanocytic nevus/ISIC_0000041_downsampled.jpg  \n",
            "  inflating: Split_smol/train/Melanocytic nevus/ISIC_0000042_downsampled.jpg  \n",
            "  inflating: Split_smol/train/Melanocytic nevus/ISIC_0000044_downsampled.jpg  \n",
            "  inflating: Split_smol/train/Melanocytic nevus/ISIC_0000047_downsampled.jpg  \n",
            "  inflating: Split_smol/train/Melanocytic nevus/ISIC_0000048_downsampled.jpg  \n",
            "  inflating: Split_smol/train/Melanocytic nevus/ISIC_0000050_downsampled.jpg  \n",
            "  inflating: Split_smol/train/Melanocytic nevus/ISIC_0000051_downsampled.jpg  \n",
            "  inflating: Split_smol/train/Melanocytic nevus/ISIC_0000052_downsampled.jpg  \n",
            "  inflating: Split_smol/train/Melanocytic nevus/ISIC_0000053_downsampled.jpg  \n",
            "  inflating: Split_smol/train/Melanocytic nevus/ISIC_0000055_downsampled.jpg  \n",
            "  inflating: Split_smol/train/Melanocytic nevus/ISIC_0000059_downsampled.jpg  \n",
            "  inflating: Split_smol/train/Melanocytic nevus/ISIC_0000060_downsampled.jpg  \n",
            "  inflating: Split_smol/train/Melanocytic nevus/ISIC_0000061_downsampled.jpg  \n",
            "  inflating: Split_smol/train/Melanocytic nevus/ISIC_0000063_downsampled.jpg  \n",
            "  inflating: Split_smol/train/Melanocytic nevus/ISIC_0000064_downsampled.jpg  \n",
            "  inflating: Split_smol/train/Melanocytic nevus/ISIC_0000066.jpg  \n",
            "  inflating: Split_smol/train/Melanocytic nevus/ISIC_0000067.jpg  \n",
            "  inflating: Split_smol/train/Melanocytic nevus/ISIC_0000068.jpg  \n",
            "  inflating: Split_smol/train/Melanocytic nevus/ISIC_0000069.jpg  \n",
            "  inflating: Split_smol/train/Melanocytic nevus/ISIC_0000072.jpg  \n",
            "  inflating: Split_smol/train/Melanocytic nevus/ISIC_0000073.jpg  \n",
            "  inflating: Split_smol/train/Melanocytic nevus/ISIC_0000079_downsampled.jpg  \n",
            "  inflating: Split_smol/train/Melanocytic nevus/ISIC_0000081_downsampled.jpg  \n",
            "  inflating: Split_smol/train/Melanocytic nevus/ISIC_0000082_downsampled.jpg  \n",
            "  inflating: Split_smol/train/Melanocytic nevus/ISIC_0000085_downsampled.jpg  \n",
            "  inflating: Split_smol/train/Melanocytic nevus/ISIC_0000086_downsampled.jpg  \n",
            "  inflating: Split_smol/train/Melanocytic nevus/ISIC_0000087_downsampled.jpg  \n",
            "  inflating: Split_smol/train/Melanocytic nevus/ISIC_0000088_downsampled.jpg  \n",
            "  inflating: Split_smol/train/Melanocytic nevus/ISIC_0000089_downsampled.jpg  \n",
            "  inflating: Split_smol/train/Melanocytic nevus/ISIC_0000091_downsampled.jpg  \n",
            "  inflating: Split_smol/train/Melanocytic nevus/ISIC_0000092_downsampled.jpg  \n",
            "  inflating: Split_smol/train/Melanocytic nevus/ISIC_0000094_downsampled.jpg  \n",
            "  inflating: Split_smol/train/Melanocytic nevus/ISIC_0000095_downsampled.jpg  \n",
            "  inflating: Split_smol/train/Melanocytic nevus/ISIC_0000096_downsampled.jpg  \n",
            "  inflating: Split_smol/train/Melanocytic nevus/ISIC_0000098_downsampled.jpg  \n",
            "  inflating: Split_smol/train/Melanocytic nevus/ISIC_0000099_downsampled.jpg  \n",
            "  inflating: Split_smol/train/Melanocytic nevus/ISIC_0000100_downsampled.jpg  \n",
            "  inflating: Split_smol/train/Melanocytic nevus/ISIC_0000102_downsampled.jpg  \n",
            "  inflating: Split_smol/train/Melanocytic nevus/ISIC_0000103_downsampled.jpg  \n",
            "  inflating: Split_smol/train/Melanocytic nevus/ISIC_0000104_downsampled.jpg  \n",
            "  inflating: Split_smol/train/Melanocytic nevus/ISIC_0000105_downsampled.jpg  \n",
            "  inflating: Split_smol/train/Melanocytic nevus/ISIC_0000107_downsampled.jpg  \n",
            "  inflating: Split_smol/train/Melanocytic nevus/ISIC_0000108_downsampled.jpg  \n",
            "  inflating: Split_smol/train/Melanocytic nevus/ISIC_0000109_downsampled.jpg  \n",
            "  inflating: Split_smol/train/Melanocytic nevus/ISIC_0000110_downsampled.jpg  \n",
            "  inflating: Split_smol/train/Melanocytic nevus/ISIC_0000111_downsampled.jpg  \n",
            "  inflating: Split_smol/train/Melanocytic nevus/ISIC_0000112_downsampled.jpg  \n",
            "  inflating: Split_smol/train/Melanocytic nevus/ISIC_0000116_downsampled.jpg  \n",
            "  inflating: Split_smol/train/Melanocytic nevus/ISIC_0000117_downsampled.jpg  \n",
            "  inflating: Split_smol/train/Melanocytic nevus/ISIC_0000119_downsampled.jpg  \n",
            "  inflating: Split_smol/train/Melanocytic nevus/ISIC_0000120_downsampled.jpg  \n",
            "  inflating: Split_smol/train/Melanocytic nevus/ISIC_0000121_downsampled.jpg  \n",
            "  inflating: Split_smol/train/Melanocytic nevus/ISIC_0000122_downsampled.jpg  \n",
            "  inflating: Split_smol/train/Melanocytic nevus/ISIC_0000126_downsampled.jpg  \n",
            "  inflating: Split_smol/train/Melanocytic nevus/ISIC_0000127_downsampled.jpg  \n",
            "  inflating: Split_smol/train/Melanocytic nevus/ISIC_0000129_downsampled.jpg  \n",
            "  inflating: Split_smol/train/Melanocytic nevus/ISIC_0000130_downsampled.jpg  \n",
            "  inflating: Split_smol/train/Melanocytic nevus/ISIC_0000131_downsampled.jpg  \n",
            "  inflating: Split_smol/train/Melanocytic nevus/ISIC_0000132_downsampled.jpg  \n",
            "  inflating: Split_smol/train/Melanocytic nevus/ISIC_0000133_downsampled.jpg  \n",
            "  inflating: Split_smol/train/Melanocytic nevus/ISIC_0000134_downsampled.jpg  \n",
            "  inflating: Split_smol/train/Melanocytic nevus/ISIC_0000136_downsampled.jpg  \n",
            "  inflating: Split_smol/train/Melanoma/ISIC_0000002.jpg  \n",
            "  inflating: Split_smol/train/Melanoma/ISIC_0000004.jpg  \n",
            "  inflating: Split_smol/train/Melanoma/ISIC_0000013.jpg  \n",
            "  inflating: Split_smol/train/Melanoma/ISIC_0000026_downsampled.jpg  \n",
            "  inflating: Split_smol/train/Melanoma/ISIC_0000029_downsampled.jpg  \n",
            "  inflating: Split_smol/train/Melanoma/ISIC_0000030_downsampled.jpg  \n",
            "  inflating: Split_smol/train/Melanoma/ISIC_0000031_downsampled.jpg  \n",
            "  inflating: Split_smol/train/Melanoma/ISIC_0000035_downsampled.jpg  \n",
            "  inflating: Split_smol/train/Melanoma/ISIC_0000036_downsampled.jpg  \n",
            "  inflating: Split_smol/train/Melanoma/ISIC_0000040_downsampled.jpg  \n",
            "  inflating: Split_smol/train/Melanoma/ISIC_0000054_downsampled.jpg  \n",
            "  inflating: Split_smol/train/Melanoma/ISIC_0000078_downsampled.jpg  \n",
            "  inflating: Split_smol/train/Melanoma/ISIC_0000139_downsampled.jpg  \n",
            "  inflating: Split_smol/train/Melanoma/ISIC_0000141_downsampled.jpg  \n",
            "  inflating: Split_smol/train/Melanoma/ISIC_0000142_downsampled.jpg  \n",
            "  inflating: Split_smol/train/Melanoma/ISIC_0000143_downsampled.jpg  \n",
            "  inflating: Split_smol/train/Melanoma/ISIC_0000145_downsampled.jpg  \n",
            "  inflating: Split_smol/train/Melanoma/ISIC_0000146_downsampled.jpg  \n",
            "  inflating: Split_smol/train/Melanoma/ISIC_0000147_downsampled.jpg  \n",
            "  inflating: Split_smol/train/Melanoma/ISIC_0000148_downsampled.jpg  \n",
            "  inflating: Split_smol/train/Melanoma/ISIC_0000149_downsampled.jpg  \n",
            "  inflating: Split_smol/train/Melanoma/ISIC_0000150_downsampled.jpg  \n",
            "  inflating: Split_smol/train/Melanoma/ISIC_0000151_downsampled.jpg  \n",
            "  inflating: Split_smol/train/Melanoma/ISIC_0000153_downsampled.jpg  \n",
            "  inflating: Split_smol/train/Melanoma/ISIC_0000154_downsampled.jpg  \n",
            "  inflating: Split_smol/train/Melanoma/ISIC_0000155_downsampled.jpg  \n",
            "  inflating: Split_smol/train/Melanoma/ISIC_0000156_downsampled.jpg  \n",
            "  inflating: Split_smol/train/Melanoma/ISIC_0000157.jpg  \n",
            "  inflating: Split_smol/train/Melanoma/ISIC_0000159.jpg  \n",
            "  inflating: Split_smol/train/Melanoma/ISIC_0000160.jpg  \n",
            "  inflating: Split_smol/train/Melanoma/ISIC_0000161.jpg  \n",
            "  inflating: Split_smol/train/Melanoma/ISIC_0000162.jpg  \n",
            "  inflating: Split_smol/train/Melanoma/ISIC_0000163.jpg  \n",
            "  inflating: Split_smol/train/Melanoma/ISIC_0000164.jpg  \n",
            "  inflating: Split_smol/train/Melanoma/ISIC_0000165.jpg  \n",
            "  inflating: Split_smol/train/Melanoma/ISIC_0000167.jpg  \n",
            "  inflating: Split_smol/train/Melanoma/ISIC_0000169.jpg  \n",
            "  inflating: Split_smol/train/Melanoma/ISIC_0000171.jpg  \n",
            "  inflating: Split_smol/train/Melanoma/ISIC_0000173.jpg  \n",
            "  inflating: Split_smol/train/Melanoma/ISIC_0000174.jpg  \n",
            "  inflating: Split_smol/train/Melanoma/ISIC_0000176_downsampled.jpg  \n",
            "  inflating: Split_smol/train/Melanoma/ISIC_0000276.jpg  \n",
            "  inflating: Split_smol/train/Melanoma/ISIC_0000277.jpg  \n",
            "  inflating: Split_smol/train/Melanoma/ISIC_0000278.jpg  \n",
            "  inflating: Split_smol/train/Melanoma/ISIC_0000281.jpg  \n",
            "  inflating: Split_smol/train/Melanoma/ISIC_0000282.jpg  \n",
            "  inflating: Split_smol/train/Melanoma/ISIC_0000285.jpg  \n",
            "  inflating: Split_smol/train/Melanoma/ISIC_0000287.jpg  \n",
            "  inflating: Split_smol/train/Melanoma/ISIC_0000288.jpg  \n",
            "  inflating: Split_smol/train/Melanoma/ISIC_0000289.jpg  \n",
            "  inflating: Split_smol/train/Melanoma/ISIC_0000290.jpg  \n",
            "  inflating: Split_smol/train/Melanoma/ISIC_0000292.jpg  \n",
            "  inflating: Split_smol/train/Melanoma/ISIC_0000293.jpg  \n",
            "  inflating: Split_smol/train/Melanoma/ISIC_0000294.jpg  \n",
            "  inflating: Split_smol/train/Melanoma/ISIC_0000295.jpg  \n",
            "  inflating: Split_smol/train/Melanoma/ISIC_0000297.jpg  \n",
            "  inflating: Split_smol/train/Melanoma/ISIC_0000299.jpg  \n",
            "  inflating: Split_smol/train/Melanoma/ISIC_0000300.jpg  \n",
            "  inflating: Split_smol/train/Melanoma/ISIC_0000301.jpg  \n",
            "  inflating: Split_smol/train/Melanoma/ISIC_0000303.jpg  \n",
            "  inflating: Split_smol/train/Melanoma/ISIC_0000306.jpg  \n",
            "  inflating: Split_smol/train/Melanoma/ISIC_0000307.jpg  \n",
            "  inflating: Split_smol/train/Melanoma/ISIC_0000311.jpg  \n",
            "  inflating: Split_smol/train/Melanoma/ISIC_0000314.jpg  \n",
            "  inflating: Split_smol/train/Melanoma/ISIC_0000390_downsampled.jpg  \n",
            "  inflating: Split_smol/train/Melanoma/ISIC_0000393_downsampled.jpg  \n",
            "  inflating: Split_smol/train/Melanoma/ISIC_0000395_downsampled.jpg  \n",
            "  inflating: Split_smol/train/Melanoma/ISIC_0000410_downsampled.jpg  \n",
            "  inflating: Split_smol/train/Melanoma/ISIC_0000412_downsampled.jpg  \n",
            "  inflating: Split_smol/train/Melanoma/ISIC_0000413_downsampled.jpg  \n",
            "  inflating: Split_smol/train/Melanoma/ISIC_0000415_downsampled.jpg  \n",
            "  inflating: Split_smol/train/Melanoma/ISIC_0000420_downsampled.jpg  \n",
            "  inflating: Split_smol/train/Melanoma/ISIC_0000434_downsampled.jpg  \n",
            "  inflating: Split_smol/train/Melanoma/ISIC_0000445_downsampled.jpg  \n",
            "  inflating: Split_smol/train/Melanoma/ISIC_0000463_downsampled.jpg  \n",
            "  inflating: Split_smol/train/Melanoma/ISIC_0000466.jpg  \n",
            "  inflating: Split_smol/train/Melanoma/ISIC_0000482.jpg  \n",
            "  inflating: Split_smol/train/Melanoma/ISIC_0000484.jpg  \n",
            "  inflating: Split_smol/train/Melanoma/ISIC_0000487.jpg  \n",
            "  inflating: Split_smol/train/Melanoma/ISIC_0000511.jpg  \n",
            "  inflating: Split_smol/train/Squamous cell carcinoma/ISIC_0024329.jpg  \n",
            "  inflating: Split_smol/train/Squamous cell carcinoma/ISIC_0024372.jpg  \n",
            "  inflating: Split_smol/train/Squamous cell carcinoma/ISIC_0024418.jpg  \n",
            "  inflating: Split_smol/train/Squamous cell carcinoma/ISIC_0024463.jpg  \n",
            "  inflating: Split_smol/train/Squamous cell carcinoma/ISIC_0024517.jpg  \n",
            "  inflating: Split_smol/train/Squamous cell carcinoma/ISIC_0024522.jpg  \n",
            "  inflating: Split_smol/train/Squamous cell carcinoma/ISIC_0024539.jpg  \n",
            "  inflating: Split_smol/train/Squamous cell carcinoma/ISIC_0024562.jpg  \n",
            "  inflating: Split_smol/train/Squamous cell carcinoma/ISIC_0024575.jpg  \n",
            "  inflating: Split_smol/train/Squamous cell carcinoma/ISIC_0024579.jpg  \n",
            "  inflating: Split_smol/train/Squamous cell carcinoma/ISIC_0024710.jpg  \n",
            "  inflating: Split_smol/train/Squamous cell carcinoma/ISIC_0024925.jpg  \n",
            "  inflating: Split_smol/train/Squamous cell carcinoma/ISIC_0025069.jpg  \n",
            "  inflating: Split_smol/train/Squamous cell carcinoma/ISIC_0025089.jpg  \n",
            "  inflating: Split_smol/train/Squamous cell carcinoma/ISIC_0025130.jpg  \n",
            "  inflating: Split_smol/train/Squamous cell carcinoma/ISIC_0025178.jpg  \n",
            "  inflating: Split_smol/train/Squamous cell carcinoma/ISIC_0025182.jpg  \n",
            "  inflating: Split_smol/train/Squamous cell carcinoma/ISIC_0025264.jpg  \n",
            "  inflating: Split_smol/train/Squamous cell carcinoma/ISIC_0025319.jpg  \n",
            "  inflating: Split_smol/train/Squamous cell carcinoma/ISIC_0025331.jpg  \n",
            "  inflating: Split_smol/train/Squamous cell carcinoma/ISIC_0025350.jpg  \n",
            "  inflating: Split_smol/train/Squamous cell carcinoma/ISIC_0025358.jpg  \n",
            "  inflating: Split_smol/train/Squamous cell carcinoma/ISIC_0025411.jpg  \n",
            "  inflating: Split_smol/train/Squamous cell carcinoma/ISIC_0025471.jpg  \n",
            "  inflating: Split_smol/train/Squamous cell carcinoma/ISIC_0025539.jpg  \n",
            "  inflating: Split_smol/train/Squamous cell carcinoma/ISIC_0025577.jpg  \n",
            "  inflating: Split_smol/train/Squamous cell carcinoma/ISIC_0025637.jpg  \n",
            "  inflating: Split_smol/train/Squamous cell carcinoma/ISIC_0025696.jpg  \n",
            "  inflating: Split_smol/train/Squamous cell carcinoma/ISIC_0025790.jpg  \n",
            "  inflating: Split_smol/train/Squamous cell carcinoma/ISIC_0025808.jpg  \n",
            "  inflating: Split_smol/train/Squamous cell carcinoma/ISIC_0025811.jpg  \n",
            "  inflating: Split_smol/train/Squamous cell carcinoma/ISIC_0025831.jpg  \n",
            "  inflating: Split_smol/train/Squamous cell carcinoma/ISIC_0026014.jpg  \n",
            "  inflating: Split_smol/train/Squamous cell carcinoma/ISIC_0026083.jpg  \n",
            "  inflating: Split_smol/train/Squamous cell carcinoma/ISIC_0026100.jpg  \n",
            "  inflating: Split_smol/train/Squamous cell carcinoma/ISIC_0026138.jpg  \n",
            "  inflating: Split_smol/train/Squamous cell carcinoma/ISIC_0026152.jpg  \n",
            "  inflating: Split_smol/train/Squamous cell carcinoma/ISIC_0026203.jpg  \n",
            "  inflating: Split_smol/train/Squamous cell carcinoma/ISIC_0026319.jpg  \n",
            "  inflating: Split_smol/train/Squamous cell carcinoma/ISIC_0026388.jpg  \n",
            "  inflating: Split_smol/train/Squamous cell carcinoma/ISIC_0026411.jpg  \n",
            "  inflating: Split_smol/train/Squamous cell carcinoma/ISIC_0026466.jpg  \n",
            "  inflating: Split_smol/train/Squamous cell carcinoma/ISIC_0026492.jpg  \n",
            "  inflating: Split_smol/train/Squamous cell carcinoma/ISIC_0026549.jpg  \n",
            "  inflating: Split_smol/train/Squamous cell carcinoma/ISIC_0026645.jpg  \n",
            "  inflating: Split_smol/train/Squamous cell carcinoma/ISIC_0026720.jpg  \n",
            "  inflating: Split_smol/train/Squamous cell carcinoma/ISIC_0026872.jpg  \n",
            "  inflating: Split_smol/train/Squamous cell carcinoma/ISIC_0026927.jpg  \n",
            "  inflating: Split_smol/train/Squamous cell carcinoma/ISIC_0026992.jpg  \n",
            "  inflating: Split_smol/train/Squamous cell carcinoma/ISIC_0027047.jpg  \n",
            "  inflating: Split_smol/train/Squamous cell carcinoma/ISIC_0027084.jpg  \n",
            "  inflating: Split_smol/train/Squamous cell carcinoma/ISIC_0027178.jpg  \n",
            "  inflating: Split_smol/train/Squamous cell carcinoma/ISIC_0027184.jpg  \n",
            "  inflating: Split_smol/train/Squamous cell carcinoma/ISIC_0027231.jpg  \n",
            "  inflating: Split_smol/train/Squamous cell carcinoma/ISIC_0027343.jpg  \n",
            "  inflating: Split_smol/train/Squamous cell carcinoma/ISIC_0027506.jpg  \n",
            "  inflating: Split_smol/train/Squamous cell carcinoma/ISIC_0027529.jpg  \n",
            "  inflating: Split_smol/train/Squamous cell carcinoma/ISIC_0027550.jpg  \n",
            "  inflating: Split_smol/train/Squamous cell carcinoma/ISIC_0027577.jpg  \n",
            "  inflating: Split_smol/train/Squamous cell carcinoma/ISIC_0027678.jpg  \n",
            "  inflating: Split_smol/train/Squamous cell carcinoma/ISIC_0027700.jpg  \n",
            "  inflating: Split_smol/train/Squamous cell carcinoma/ISIC_0027719.jpg  \n",
            "  inflating: Split_smol/train/Squamous cell carcinoma/ISIC_0027767.jpg  \n",
            "  inflating: Split_smol/train/Squamous cell carcinoma/ISIC_0027930.jpg  \n",
            "  inflating: Split_smol/train/Squamous cell carcinoma/ISIC_0028132.jpg  \n",
            "  inflating: Split_smol/train/Squamous cell carcinoma/ISIC_0028158.jpg  \n",
            "  inflating: Split_smol/train/Squamous cell carcinoma/ISIC_0028224.jpg  \n",
            "  inflating: Split_smol/train/Squamous cell carcinoma/ISIC_0028231.jpg  \n",
            "  inflating: Split_smol/train/Squamous cell carcinoma/ISIC_0028232.jpg  \n",
            "  inflating: Split_smol/train/Squamous cell carcinoma/ISIC_0028335.jpg  \n",
            "  inflating: Split_smol/train/Squamous cell carcinoma/ISIC_0028372.jpg  \n",
            "  inflating: Split_smol/train/Squamous cell carcinoma/ISIC_0028381.jpg  \n",
            "  inflating: Split_smol/train/Squamous cell carcinoma/ISIC_0028499.jpg  \n",
            "  inflating: Split_smol/train/Squamous cell carcinoma/ISIC_0028644.jpg  \n",
            "  inflating: Split_smol/train/Squamous cell carcinoma/ISIC_0028659.jpg  \n",
            "  inflating: Split_smol/train/Squamous cell carcinoma/ISIC_0028730.jpg  \n",
            "  inflating: Split_smol/train/Squamous cell carcinoma/ISIC_0028763.jpg  \n",
            "  inflating: Split_smol/train/Squamous cell carcinoma/ISIC_0028816.jpg  \n",
            "  inflating: Split_smol/train/Squamous cell carcinoma/ISIC_0028872.jpg  \n",
            "  inflating: Split_smol/train/Squamous cell carcinoma/ISIC_0029043.jpg  \n",
            "  inflating: Split_smol/train/Tinea Ringworm Candidiasis/148018-1.jpg  \n",
            "  inflating: Split_smol/train/Tinea Ringworm Candidiasis/148018.jpg  \n",
            "  inflating: Split_smol/train/Tinea Ringworm Candidiasis/15997525228_30a0f1256f_z.jpg  \n",
            "  inflating: Split_smol/train/Tinea Ringworm Candidiasis/300px-Ringworm_on_the_arm,_or_tinea_corporis_due_to_Trichophyton_mentagrophytes_PHIL_2938_lores.jpg  \n",
            "  inflating: Split_smol/train/Tinea Ringworm Candidiasis/afp20030101p101-f1.jpg  \n",
            "  inflating: Split_smol/train/Tinea Ringworm Candidiasis/afp20080515p1415-f2.jpg  \n",
            "  inflating: Split_smol/train/Tinea Ringworm Candidiasis/aug_0_11046_2008_9101_Fig2_HTML.jpg  \n",
            "  inflating: Split_smol/train/Tinea Ringworm Candidiasis/aug_0_1200px-Oberflachlicher_Hautpilz.jpg  \n",
            "  inflating: Split_smol/train/Tinea Ringworm Candidiasis/aug_0_15436_lores.jpg  \n",
            "  inflating: Split_smol/train/Tinea Ringworm Candidiasis/aug_0_241-1.jpg  \n",
            "  inflating: Split_smol/train/Tinea Ringworm Candidiasis/aug_0_300px-Ringworm_on_the_arm,_or_tinea_corporis_due_to_Trichophyton_mentagrophytes_PHIL_2938_lores.jpg  \n",
            "  inflating: Split_smol/train/Tinea Ringworm Candidiasis/aug_0_B9780702044496000291_f029-001-9780702044496.jpg  \n",
            "  inflating: Split_smol/train/Tinea Ringworm Candidiasis/aug_0_Cv-1.png  \n",
            "  inflating: Split_smol/train/Tinea Ringworm Candidiasis/aug_0_Daad-khujli-kya-hai-or-daad-ka-treatment-ilaj-in-Hindi.jpg  \n",
            "  inflating: Split_smol/train/Tinea Ringworm Candidiasis/aug_0_Direct-microscopic-examination-revealed-endothrix-infection-with-chains-of-conidia-in-and_Q320.jpg  \n",
            "  inflating: Split_smol/train/Tinea Ringworm Candidiasis/aug_0_F2.large.jpg  \n",
            "  inflating: Split_smol/train/Tinea Ringworm Candidiasis/aug_0_IJD-62-227-g006.jpg  \n",
            "  inflating: Split_smol/train/Tinea Ringworm Candidiasis/aug_0_Rid-of-Ringworm-HS001.jpg  \n",
            "  inflating: Split_smol/train/Tinea Ringworm Candidiasis/aug_0_Ringworm (7).jpg  \n",
            "  inflating: Split_smol/train/Tinea Ringworm Candidiasis/aug_0_Ringworm-The-identifying-ring-shaped-rash-2486729.jpg  \n",
            "  inflating: Split_smol/train/Tinea Ringworm Candidiasis/aug_0_Ringworm-Titel.jpg  \n",
            "  inflating: Split_smol/train/Tinea Ringworm Candidiasis/aug_0_Ringworm-sm.jpg  \n",
            "  inflating: Split_smol/train/Tinea Ringworm Candidiasis/aug_0_S_1017_Pityriais_rosea_M2400164.max-600x600.jpg  \n",
            "  inflating: Split_smol/train/Tinea Ringworm Candidiasis/aug_0_Screenshot 2021-09-14 112100.png  \n",
            "  inflating: Split_smol/train/Tinea Ringworm Candidiasis/aug_0_Screenshot 2021-09-14 112113.png  \n",
            "  inflating: Split_smol/train/Tinea Ringworm Candidiasis/aug_0_Screenshot 2021-09-14 112140.png  \n",
            "  inflating: Split_smol/train/Tinea Ringworm Candidiasis/aug_0_Screenshot 2021-09-14 112150.png  \n",
            "  inflating: Split_smol/train/Tinea Ringworm Candidiasis/aug_0_Screenshot 2021-09-14 112208.png  \n",
            "  inflating: Split_smol/train/Tinea Ringworm Candidiasis/aug_0_Screenshot 2021-09-14 112538.png  \n",
            "  inflating: Split_smol/train/Tinea Ringworm Candidiasis/aug_0_Screenshot 2021-09-14 112600.png  \n",
            "  inflating: Split_smol/train/Tinea Ringworm Candidiasis/aug_0_Screenshot 2021-09-14 112621.png  \n",
            "  inflating: Split_smol/train/Tinea Ringworm Candidiasis/aug_0_Screenshot 2021-09-14 112636.png  \n",
            "  inflating: Split_smol/train/Tinea Ringworm Candidiasis/aug_0_Screenshot 2021-09-14 112650.png  \n",
            "  inflating: Split_smol/train/Tinea Ringworm Candidiasis/aug_0_Screenshot 2021-09-14 112815.png  \n",
            "  inflating: Split_smol/train/Tinea Ringworm Candidiasis/aug_0_Screenshot 2021-09-14 112827.png  \n",
            "  inflating: Split_smol/train/Tinea Ringworm Candidiasis/aug_0_Screenshot 2021-09-14 112859.png  \n",
            "  inflating: Split_smol/train/Tinea Ringworm Candidiasis/aug_0_Screenshot 2021-09-14 112937.png  \n",
            "  inflating: Split_smol/train/Tinea Ringworm Candidiasis/aug_0_Screenshot 2021-09-14 112945.png  \n",
            "  inflating: Split_smol/train/Tinea Ringworm Candidiasis/aug_0_afp20030101p101-f1.jpg  \n",
            "  inflating: Split_smol/train/Tinea Ringworm Candidiasis/aug_0_afp20080515p1415-f2.jpg  \n",
            "  inflating: Split_smol/train/Tinea Ringworm Candidiasis/aug_0_afp20141115p702-f1.jpg  \n",
            "  inflating: Split_smol/train/Tinea Ringworm Candidiasis/aug_0_article_2083_cover_en_US.jpg  \n",
            "  inflating: Split_smol/train/Tinea Ringworm Candidiasis/aug_0_dermatomycosis-corporis-3.jpg  \n",
            "  inflating: Split_smol/train/Tinea Ringworm Candidiasis/aug_0_gWKFl81gOGebKIRUWg13lgp-O7X7GXiX1IOOqXBw-f2w.jpg  \n",
            "  inflating: Split_smol/train/Tinea Ringworm Candidiasis/aug_0_gr6.jpg  \n",
            "  inflating: Split_smol/train/Tinea Ringworm Candidiasis/aug_0_image.png  \n",
            "  inflating: Split_smol/train/Tinea Ringworm Candidiasis/aug_0_img200811101425_lg.jpg  \n",
            "  inflating: Split_smol/train/Tinea Ringworm Candidiasis/aug_0_maxresdefault.jpg  \n",
            "  inflating: Split_smol/train/Tinea Ringworm Candidiasis/aug_0_natural-treatment-Daad-khaj-khujli-ringworm-home-treatment-home-remedies-fungal-infection-treatment-symptom-pictures-diagnosis-hindi-gimtrend.blogspot.com.jpeg  \n",
            "  inflating: Split_smol/train/Tinea Ringworm Candidiasis/aug_0_nejmicm1013871_f1.jpeg  \n",
            "  inflating: Split_smol/train/Tinea Ringworm Candidiasis/aug_0_pha-259018.jpg  \n",
            "  inflating: Split_smol/train/Tinea Ringworm Candidiasis/aug_0_ringworm (9).jpg  \n",
            "  inflating: Split_smol/train/Tinea Ringworm Candidiasis/aug_0_ringworm-2.png  \n",
            "  inflating: Split_smol/train/Tinea Ringworm Candidiasis/aug_0_ringworm-on-neck.jpg  \n",
            "  inflating: Split_smol/train/Tinea Ringworm Candidiasis/aug_0_ringworm1.jpg  \n",
            "  inflating: Split_smol/train/Tinea Ringworm Candidiasis/aug_0_ringworm_4x3.jpg.pagespeed.ce.XzSqpXITIx.jpg  \n",
            "  inflating: Split_smol/train/Vascular lesion/ISIC_0024370.jpg  \n",
            "  inflating: Split_smol/train/Vascular lesion/ISIC_0024402.jpg  \n",
            "  inflating: Split_smol/train/Vascular lesion/ISIC_0024475.jpg  \n",
            "  inflating: Split_smol/train/Vascular lesion/ISIC_0024662.jpg  \n",
            "  inflating: Split_smol/train/Vascular lesion/ISIC_0024669.jpg  \n",
            "  inflating: Split_smol/train/Vascular lesion/ISIC_0024904.jpg  \n",
            "  inflating: Split_smol/train/Vascular lesion/ISIC_0025197.jpg  \n",
            "  inflating: Split_smol/train/Vascular lesion/ISIC_0025244.jpg  \n",
            "  inflating: Split_smol/train/Vascular lesion/ISIC_0025249.jpg  \n",
            "  inflating: Split_smol/train/Vascular lesion/ISIC_0025250.jpg  \n",
            "  inflating: Split_smol/train/Vascular lesion/ISIC_0025321.jpg  \n",
            "  inflating: Split_smol/train/Vascular lesion/ISIC_0025425.jpg  \n",
            "  inflating: Split_smol/train/Vascular lesion/ISIC_0025452.jpg  \n",
            "  inflating: Split_smol/train/Vascular lesion/ISIC_0025578.jpg  \n",
            "  inflating: Split_smol/train/Vascular lesion/ISIC_0025596.jpg  \n",
            "  inflating: Split_smol/train/Vascular lesion/ISIC_0025599.jpg  \n",
            "  inflating: Split_smol/train/Vascular lesion/ISIC_0025606.jpg  \n",
            "  inflating: Split_smol/train/Vascular lesion/ISIC_0025612.jpg  \n",
            "  inflating: Split_smol/train/Vascular lesion/ISIC_0025680.jpg  \n",
            "  inflating: Split_smol/train/Vascular lesion/ISIC_0025707.jpg  \n",
            "  inflating: Split_smol/train/Vascular lesion/ISIC_0025873.jpg  \n",
            "  inflating: Split_smol/train/Vascular lesion/ISIC_0026068.jpg  \n",
            "  inflating: Split_smol/train/Vascular lesion/ISIC_0026092.jpg  \n",
            "  inflating: Split_smol/train/Vascular lesion/ISIC_0026163.jpg  \n",
            "  inflating: Split_smol/train/Vascular lesion/ISIC_0026336.jpg  \n",
            "  inflating: Split_smol/train/Vascular lesion/ISIC_0026349.jpg  \n",
            "  inflating: Split_smol/train/Vascular lesion/ISIC_0026393.jpg  \n",
            "  inflating: Split_smol/train/Vascular lesion/ISIC_0026467.jpg  \n",
            "  inflating: Split_smol/train/Vascular lesion/ISIC_0026490.jpg  \n",
            "  inflating: Split_smol/train/Vascular lesion/ISIC_0026693.jpg  \n",
            "  inflating: Split_smol/train/Vascular lesion/ISIC_0027159.jpg  \n",
            "  inflating: Split_smol/train/Vascular lesion/ISIC_0027210.jpg  \n",
            "  inflating: Split_smol/train/Vascular lesion/ISIC_0027256.jpg  \n",
            "  inflating: Split_smol/train/Vascular lesion/ISIC_0027269.jpg  \n",
            "  inflating: Split_smol/train/Vascular lesion/ISIC_0027385.jpg  \n",
            "  inflating: Split_smol/train/Vascular lesion/ISIC_0027522.jpg  \n",
            "  inflating: Split_smol/train/Vascular lesion/ISIC_0027563.jpg  \n",
            "  inflating: Split_smol/train/Vascular lesion/ISIC_0027665.jpg  \n",
            "  inflating: Split_smol/train/Vascular lesion/ISIC_0027672.jpg  \n",
            "  inflating: Split_smol/train/Vascular lesion/ISIC_0027856.jpg  \n",
            "  inflating: Split_smol/train/Vascular lesion/ISIC_0027888.jpg  \n",
            "  inflating: Split_smol/train/Vascular lesion/ISIC_0027903.jpg  \n",
            "  inflating: Split_smol/train/Vascular lesion/ISIC_0027937.jpg  \n",
            "  inflating: Split_smol/train/Vascular lesion/ISIC_0028188.jpg  \n",
            "  inflating: Split_smol/train/Vascular lesion/ISIC_0028431.jpg  \n",
            "  inflating: Split_smol/train/Vascular lesion/ISIC_0028680.jpg  \n",
            "  inflating: Split_smol/train/Vascular lesion/ISIC_0028885.jpg  \n",
            "  inflating: Split_smol/train/Vascular lesion/ISIC_0029099.jpg  \n",
            "  inflating: Split_smol/train/Vascular lesion/ISIC_0029404.jpg  \n",
            "  inflating: Split_smol/train/Vascular lesion/ISIC_0029439.jpg  \n",
            "  inflating: Split_smol/train/Vascular lesion/ISIC_0029448.jpg  \n",
            "  inflating: Split_smol/train/Vascular lesion/ISIC_0029486.jpg  \n",
            "  inflating: Split_smol/train/Vascular lesion/ISIC_0029514.jpg  \n",
            "  inflating: Split_smol/train/Vascular lesion/ISIC_0029877.jpg  \n",
            "  inflating: Split_smol/train/Vascular lesion/ISIC_0029889.jpg  \n",
            "  inflating: Split_smol/train/Vascular lesion/ISIC_0030070.jpg  \n",
            "  inflating: Split_smol/train/Vascular lesion/ISIC_0030104.jpg  \n",
            "  inflating: Split_smol/train/Vascular lesion/ISIC_0030283.jpg  \n",
            "  inflating: Split_smol/train/Vascular lesion/ISIC_0030606.jpg  \n",
            "  inflating: Split_smol/train/Vascular lesion/ISIC_0030722.jpg  \n",
            "  inflating: Split_smol/train/Vascular lesion/ISIC_0030770.jpg  \n",
            "  inflating: Split_smol/train/Vascular lesion/ISIC_0030882.jpg  \n",
            "  inflating: Split_smol/train/Vascular lesion/ISIC_0030956.jpg  \n",
            "  inflating: Split_smol/train/Vascular lesion/ISIC_0031065.jpg  \n",
            "  inflating: Split_smol/train/Vascular lesion/ISIC_0031090.jpg  \n",
            "  inflating: Split_smol/train/Vascular lesion/ISIC_0031093.jpg  \n",
            "  inflating: Split_smol/train/Vascular lesion/ISIC_0031201.jpg  \n",
            "  inflating: Split_smol/train/Vascular lesion/ISIC_0031215.jpg  \n",
            "  inflating: Split_smol/train/Vascular lesion/ISIC_0031217.jpg  \n",
            "  inflating: Split_smol/train/Vascular lesion/ISIC_0031270.jpg  \n",
            "  inflating: Split_smol/train/Vascular lesion/ISIC_0031276.jpg  \n",
            "  inflating: Split_smol/train/Vascular lesion/ISIC_0031346.jpg  \n",
            "  inflating: Split_smol/train/Vascular lesion/ISIC_0031648.jpg  \n",
            "  inflating: Split_smol/train/Vascular lesion/ISIC_0031706.jpg  \n",
            "  inflating: Split_smol/train/Vascular lesion/ISIC_0031719.jpg  \n",
            "  inflating: Split_smol/train/Vascular lesion/ISIC_0031759.jpg  \n",
            "  inflating: Split_smol/train/Vascular lesion/ISIC_0031901.jpg  \n",
            "  inflating: Split_smol/train/Vascular lesion/ISIC_0031950.jpg  \n",
            "  inflating: Split_smol/train/Vascular lesion/ISIC_0031955.jpg  \n",
            "  inflating: Split_smol/train/Vascular lesion/ISIC_0031996.jpg  \n",
            "  inflating: Split_smol/val/Actinic keratosis/ISIC_0025803.jpg  \n",
            "  inflating: Split_smol/val/Actinic keratosis/ISIC_0025825.jpg  \n",
            "  inflating: Split_smol/val/Actinic keratosis/ISIC_0026040.jpg  \n",
            "  inflating: Split_smol/val/Actinic keratosis/ISIC_0026194.jpg  \n",
            "  inflating: Split_smol/val/Actinic keratosis/ISIC_0026212.jpg  \n",
            "  inflating: Split_smol/val/Actinic keratosis/ISIC_0026468.jpg  \n",
            "  inflating: Split_smol/val/Actinic keratosis/ISIC_0026650.jpg  \n",
            "  inflating: Split_smol/val/Actinic keratosis/ISIC_0026984.jpg  \n",
            "  inflating: Split_smol/val/Actinic keratosis/ISIC_0027452.jpg  \n",
            "  inflating: Split_smol/val/Actinic keratosis/ISIC_0027580.jpg  \n",
            "  inflating: Split_smol/val/Actinic keratosis/ISIC_0027802.jpg  \n",
            "  inflating: Split_smol/val/Actinic keratosis/ISIC_0027896.jpg  \n",
            "  inflating: Split_smol/val/Actinic keratosis/ISIC_0028820.jpg  \n",
            "  inflating: Split_smol/val/Actinic keratosis/ISIC_0029025.jpg  \n",
            "  inflating: Split_smol/val/Actinic keratosis/ISIC_0029210.jpg  \n",
            "  inflating: Split_smol/val/Actinic keratosis/ISIC_0029781.jpg  \n",
            "  inflating: Split_smol/val/Actinic keratosis/ISIC_0029915.jpg  \n",
            "  inflating: Split_smol/val/Actinic keratosis/ISIC_0030036.jpg  \n",
            "  inflating: Split_smol/val/Actinic keratosis/ISIC_0030143.jpg  \n",
            "  inflating: Split_smol/val/Actinic keratosis/ISIC_0030242.jpg  \n",
            "  inflating: Split_smol/val/Atopic Dermatitis/1_14.jpg  \n",
            "  inflating: Split_smol/val/Atopic Dermatitis/1_15.jpg  \n",
            "  inflating: Split_smol/val/Atopic Dermatitis/1_16.jpg  \n",
            "  inflating: Split_smol/val/Atopic Dermatitis/1_17.jpg  \n",
            "  inflating: Split_smol/val/Atopic Dermatitis/1_18.jpg  \n",
            "  inflating: Split_smol/val/Atopic Dermatitis/1_19.jpg  \n",
            "  inflating: Split_smol/val/Atopic Dermatitis/1_20.jpg  \n",
            "  inflating: Split_smol/val/Atopic Dermatitis/1_23.jpg  \n",
            "  inflating: Split_smol/val/Atopic Dermatitis/1_24.jpg  \n",
            "  inflating: Split_smol/val/Atopic Dermatitis/1_25.jpg  \n",
            "  inflating: Split_smol/val/Atopic Dermatitis/1_26.jpg  \n",
            "  inflating: Split_smol/val/Atopic Dermatitis/1_27.jpg  \n",
            "  inflating: Split_smol/val/Atopic Dermatitis/1_29.jpg  \n",
            "  inflating: Split_smol/val/Atopic Dermatitis/1_30.jpg  \n",
            "  inflating: Split_smol/val/Atopic Dermatitis/1_35.jpg  \n",
            "  inflating: Split_smol/val/Atopic Dermatitis/1_36.jpg  \n",
            "  inflating: Split_smol/val/Atopic Dermatitis/1_39.jpg  \n",
            "  inflating: Split_smol/val/Atopic Dermatitis/1_41.jpg  \n",
            "  inflating: Split_smol/val/Atopic Dermatitis/1_42.jpg  \n",
            "  inflating: Split_smol/val/Atopic Dermatitis/1_43.jpg  \n",
            "  inflating: Split_smol/val/Atopic Dermatitis/1_44.jpg  \n",
            "  inflating: Split_smol/val/Benign keratosis/ISIC_0014603_downsampled.jpg  \n",
            "  inflating: Split_smol/val/Benign keratosis/ISIC_0014605_downsampled.jpg  \n",
            "  inflating: Split_smol/val/Benign keratosis/ISIC_0014609_downsampled.jpg  \n",
            "  inflating: Split_smol/val/Benign keratosis/ISIC_0014613_downsampled.jpg  \n",
            "  inflating: Split_smol/val/Benign keratosis/ISIC_0014617_downsampled.jpg  \n",
            "  inflating: Split_smol/val/Benign keratosis/ISIC_0014619_downsampled.jpg  \n",
            "  inflating: Split_smol/val/Benign keratosis/ISIC_0014621_downsampled.jpg  \n",
            "  inflating: Split_smol/val/Benign keratosis/ISIC_0014622_downsampled.jpg  \n",
            "  inflating: Split_smol/val/Benign keratosis/ISIC_0014627_downsampled.jpg  \n",
            "  inflating: Split_smol/val/Benign keratosis/ISIC_0014633_downsampled.jpg  \n",
            "  inflating: Split_smol/val/Benign keratosis/ISIC_0014641_downsampled.jpg  \n",
            "  inflating: Split_smol/val/Benign keratosis/ISIC_0014649_downsampled.jpg  \n",
            "  inflating: Split_smol/val/Benign keratosis/ISIC_0014651_downsampled.jpg  \n",
            "  inflating: Split_smol/val/Benign keratosis/ISIC_0014653_downsampled.jpg  \n",
            "  inflating: Split_smol/val/Benign keratosis/ISIC_0015038_downsampled.jpg  \n",
            "  inflating: Split_smol/val/Benign keratosis/ISIC_0015108_downsampled.jpg  \n",
            "  inflating: Split_smol/val/Benign keratosis/ISIC_0015170_downsampled.jpg  \n",
            "  inflating: Split_smol/val/Benign keratosis/ISIC_0015220_downsampled.jpg  \n",
            "  inflating: Split_smol/val/Benign keratosis/ISIC_0015233_downsampled.jpg  \n",
            "  inflating: Split_smol/val/Benign keratosis/ISIC_0015260_downsampled.jpg  \n",
            "  inflating: Split_smol/val/Dermatofibroma/ISIC_0024330.jpg  \n",
            "  inflating: Split_smol/val/Dermatofibroma/ISIC_0024973.jpg  \n",
            "  inflating: Split_smol/val/Dermatofibroma/ISIC_0024994.jpg  \n",
            "  inflating: Split_smol/val/Dermatofibroma/ISIC_0025154.jpg  \n",
            "  inflating: Split_smol/val/Dermatofibroma/ISIC_0026254.jpg  \n",
            "  inflating: Split_smol/val/Dermatofibroma/ISIC_0026313.jpg  \n",
            "  inflating: Split_smol/val/Dermatofibroma/ISIC_0026473.jpg  \n",
            "  inflating: Split_smol/val/Dermatofibroma/ISIC_0026789.jpg  \n",
            "  inflating: Split_smol/val/Dermatofibroma/ISIC_0027216.jpg  \n",
            "  inflating: Split_smol/val/Dermatofibroma/ISIC_0027626.jpg  \n",
            "  inflating: Split_smol/val/Dermatofibroma/ISIC_0027648.jpg  \n",
            "  inflating: Split_smol/val/Dermatofibroma/ISIC_0029039.jpg  \n",
            "  inflating: Split_smol/val/Dermatofibroma/ISIC_0029297.jpg  \n",
            "  inflating: Split_smol/val/Dermatofibroma/ISIC_0029578.jpg  \n",
            "  inflating: Split_smol/val/Dermatofibroma/ISIC_0029760.jpg  \n",
            "  inflating: Split_smol/val/Dermatofibroma/ISIC_0029824.jpg  \n",
            "  inflating: Split_smol/val/Dermatofibroma/ISIC_0029967.jpg  \n",
            "  inflating: Split_smol/val/Dermatofibroma/ISIC_0030442.jpg  \n",
            "  inflating: Split_smol/val/Dermatofibroma/ISIC_0030555.jpg  \n",
            "  inflating: Split_smol/val/Dermatofibroma/ISIC_0031443.jpg  \n",
            "  inflating: Split_smol/val/Melanocytic nevus/ISIC_0000001.jpg  \n",
            "  inflating: Split_smol/val/Melanocytic nevus/ISIC_0000015.jpg  \n",
            "  inflating: Split_smol/val/Melanocytic nevus/ISIC_0000016.jpg  \n",
            "  inflating: Split_smol/val/Melanocytic nevus/ISIC_0000017_downsampled.jpg  \n",
            "  inflating: Split_smol/val/Melanocytic nevus/ISIC_0000019_downsampled.jpg  \n",
            "  inflating: Split_smol/val/Melanocytic nevus/ISIC_0000020_downsampled.jpg  \n",
            "  inflating: Split_smol/val/Melanocytic nevus/ISIC_0000025_downsampled.jpg  \n",
            "  inflating: Split_smol/val/Melanocytic nevus/ISIC_0000032_downsampled.jpg  \n",
            "  inflating: Split_smol/val/Melanocytic nevus/ISIC_0000034_downsampled.jpg  \n",
            "  inflating: Split_smol/val/Melanocytic nevus/ISIC_0000038_downsampled.jpg  \n",
            "  inflating: Split_smol/val/Melanocytic nevus/ISIC_0000045_downsampled.jpg  \n",
            "  inflating: Split_smol/val/Melanocytic nevus/ISIC_0000057_downsampled.jpg  \n",
            "  inflating: Split_smol/val/Melanocytic nevus/ISIC_0000058_downsampled.jpg  \n",
            "  inflating: Split_smol/val/Melanocytic nevus/ISIC_0000062_downsampled.jpg  \n",
            "  inflating: Split_smol/val/Melanocytic nevus/ISIC_0000065_downsampled.jpg  \n",
            "  inflating: Split_smol/val/Melanocytic nevus/ISIC_0000071.jpg  \n",
            "  inflating: Split_smol/val/Melanocytic nevus/ISIC_0000075.jpg  \n",
            "  inflating: Split_smol/val/Melanocytic nevus/ISIC_0000093_downsampled.jpg  \n",
            "  inflating: Split_smol/val/Melanocytic nevus/ISIC_0000097_downsampled.jpg  \n",
            "  inflating: Split_smol/val/Melanocytic nevus/ISIC_0000101_downsampled.jpg  \n",
            "  inflating: Split_smol/val/Melanoma/ISIC_0000166.jpg  \n",
            "  inflating: Split_smol/val/Melanoma/ISIC_0000172.jpg  \n",
            "  inflating: Split_smol/val/Melanoma/ISIC_0000175.jpg  \n",
            "  inflating: Split_smol/val/Melanoma/ISIC_0000298.jpg  \n",
            "  inflating: Split_smol/val/Melanoma/ISIC_0000313.jpg  \n",
            "  inflating: Split_smol/val/Melanoma/ISIC_0000469.jpg  \n",
            "  inflating: Split_smol/val/Melanoma/ISIC_0000550.jpg  \n",
            "  inflating: Split_smol/val/Melanoma/ISIC_0000554.jpg  \n",
            "  inflating: Split_smol/val/Melanoma/ISIC_0001100_downsampled.jpg  \n",
            "  inflating: Split_smol/val/Melanoma/ISIC_0009868.jpg  \n",
            "  inflating: Split_smol/val/Melanoma/ISIC_0009897.jpg  \n",
            "  inflating: Split_smol/val/Melanoma/ISIC_0009910.jpg  \n",
            "  inflating: Split_smol/val/Melanoma/ISIC_0009918.jpg  \n",
            "  inflating: Split_smol/val/Melanoma/ISIC_0010054.jpg  \n",
            "  inflating: Split_smol/val/Melanoma/ISIC_0010067.jpg  \n",
            "  inflating: Split_smol/val/Melanoma/ISIC_0010231.jpg  \n",
            "  inflating: Split_smol/val/Melanoma/ISIC_0010240.jpg  \n",
            "  inflating: Split_smol/val/Melanoma/ISIC_0011112.jpg  \n",
            "  inflating: Split_smol/val/Melanoma/ISIC_0011130.jpg  \n",
            "  inflating: Split_smol/val/Melanoma/ISIC_0011135.jpg  \n",
            "  inflating: Split_smol/val/Squamous cell carcinoma/ISIC_0024450.jpg  \n",
            "  inflating: Split_smol/val/Squamous cell carcinoma/ISIC_0024843.jpg  \n",
            "  inflating: Split_smol/val/Squamous cell carcinoma/ISIC_0024923.jpg  \n",
            "  inflating: Split_smol/val/Squamous cell carcinoma/ISIC_0024946.jpg  \n",
            "  inflating: Split_smol/val/Squamous cell carcinoma/ISIC_0025029.jpg  \n",
            "  inflating: Split_smol/val/Squamous cell carcinoma/ISIC_0025196.jpg  \n",
            "  inflating: Split_smol/val/Squamous cell carcinoma/ISIC_0025247.jpg  \n",
            "  inflating: Split_smol/val/Squamous cell carcinoma/ISIC_0025712.jpg  \n",
            "  inflating: Split_smol/val/Squamous cell carcinoma/ISIC_0025948.jpg  \n",
            "  inflating: Split_smol/val/Squamous cell carcinoma/ISIC_0026132.jpg  \n",
            "  inflating: Split_smol/val/Squamous cell carcinoma/ISIC_0026178.jpg  \n",
            "  inflating: Split_smol/val/Squamous cell carcinoma/ISIC_0026206.jpg  \n",
            "  inflating: Split_smol/val/Squamous cell carcinoma/ISIC_0026327.jpg  \n",
            "  inflating: Split_smol/val/Squamous cell carcinoma/ISIC_0026362.jpg  \n",
            "  inflating: Split_smol/val/Squamous cell carcinoma/ISIC_0026522.jpg  \n",
            "  inflating: Split_smol/val/Squamous cell carcinoma/ISIC_0026981.jpg  \n",
            "  inflating: Split_smol/val/Squamous cell carcinoma/ISIC_0027303.jpg  \n",
            "  inflating: Split_smol/val/Squamous cell carcinoma/ISIC_0027708.jpg  \n",
            "  inflating: Split_smol/val/Squamous cell carcinoma/ISIC_0027753.jpg  \n",
            "  inflating: Split_smol/val/Squamous cell carcinoma/ISIC_0027795.jpg  \n",
            "  inflating: Split_smol/val/Tinea Ringworm Candidiasis/aug_0_B9780702044496000291_f029-001-9780702044496-1.jpg  \n",
            "  inflating: Split_smol/val/Tinea Ringworm Candidiasis/aug_0_Cv-1.png  \n",
            "  inflating: Split_smol/val/Tinea Ringworm Candidiasis/aug_0_Cv.png  \n",
            "  inflating: Split_smol/val/Tinea Ringworm Candidiasis/aug_0_Daad-khujli-kya-hai-or-daad-ka-treatment-ilaj-in-Hindi.jpg  \n",
            "  inflating: Split_smol/val/Tinea Ringworm Candidiasis/aug_0_Direct-microscopic-examination-revealed-endothrix-infection-with-chains-of-conidia-in-and_Q320.jpg  \n",
            "  inflating: Split_smol/val/Tinea Ringworm Candidiasis/aug_0_Fixed-Drug-Eruption_cdp-2013112112250982.jpg  \n",
            "  inflating: Split_smol/val/Tinea Ringworm Candidiasis/aug_0_IJD-62-227-g006.jpg  \n",
            "  inflating: Split_smol/val/Tinea Ringworm Candidiasis/aug_0_Rid-of-Ringworm-HS001.jpg  \n",
            "  inflating: Split_smol/val/Tinea Ringworm Candidiasis/aug_0_cs-Misdiagnosis-Cutaneous-Fungal-Infections-RM-63651.jpg  \n",
            "  inflating: Split_smol/val/Tinea Ringworm Candidiasis/aug_0_dermatomycosis-corporis-3.jpg  \n",
            "  inflating: Split_smol/val/Tinea Ringworm Candidiasis/aug_0_f017-012-9780323244756-1.jpg  \n",
            "  inflating: Split_smol/val/Tinea Ringworm Candidiasis/aug_0_f017-012-9780323244756.jpg  \n",
            "  inflating: Split_smol/val/Tinea Ringworm Candidiasis/aug_0_gWKFl81gOGebKIRUWg13lgp-O7X7GXiX1IOOqXBw-f2w.jpg  \n",
            "  inflating: Split_smol/val/Tinea Ringworm Candidiasis/aug_0_gr6.jpg  \n",
            "  inflating: Split_smol/val/Tinea Ringworm Candidiasis/aug_0_image.png  \n",
            "  inflating: Split_smol/val/Tinea Ringworm Candidiasis/aug_0_jock-itch-1024x683.jpeg  \n",
            "  inflating: Split_smol/val/Tinea Ringworm Candidiasis/aug_0_jot96pzvsem71.jpg  \n",
            "  inflating: Split_smol/val/Tinea Ringworm Candidiasis/aug_0_natural-treatment-Daad-khaj-khujli-ringworm-home-treatment-home-remedies-fungal-infection-treatment-symptom-pictures-diagnosis-hindi-gimtrend.blogspot.com.jpeg  \n",
            "  inflating: Split_smol/val/Tinea Ringworm Candidiasis/aug_0_nejmicm1013871_f1.jpeg  \n",
            "  inflating: Split_smol/val/Tinea Ringworm Candidiasis/aug_0_pha-259018.jpg  \n",
            "  inflating: Split_smol/val/Vascular lesion/ISIC_0024375.jpg  \n",
            "  inflating: Split_smol/val/Vascular lesion/ISIC_0024706.jpg  \n",
            "  inflating: Split_smol/val/Vascular lesion/ISIC_0024747.jpg  \n",
            "  inflating: Split_smol/val/Vascular lesion/ISIC_0024867.jpg  \n",
            "  inflating: Split_smol/val/Vascular lesion/ISIC_0025628.jpg  \n",
            "  inflating: Split_smol/val/Vascular lesion/ISIC_0025677.jpg  \n",
            "  inflating: Split_smol/val/Vascular lesion/ISIC_0025807.jpg  \n",
            "  inflating: Split_smol/val/Vascular lesion/ISIC_0026713.jpg  \n",
            "  inflating: Split_smol/val/Vascular lesion/ISIC_0026876.jpg  \n",
            "  inflating: Split_smol/val/Vascular lesion/ISIC_0027983.jpg  \n",
            "  inflating: Split_smol/val/Vascular lesion/ISIC_0028146.jpg  \n",
            "  inflating: Split_smol/val/Vascular lesion/ISIC_0028163.jpg  \n",
            "  inflating: Split_smol/val/Vascular lesion/ISIC_0028406.jpg  \n",
            "  inflating: Split_smol/val/Vascular lesion/ISIC_0028714.jpg  \n",
            "  inflating: Split_smol/val/Vascular lesion/ISIC_0029608.jpg  \n",
            "  inflating: Split_smol/val/Vascular lesion/ISIC_0029742.jpg  \n",
            "  inflating: Split_smol/val/Vascular lesion/ISIC_0031103.jpg  \n",
            "  inflating: Split_smol/val/Vascular lesion/ISIC_0031197.jpg  \n",
            "  inflating: Split_smol/val/Vascular lesion/ISIC_0032545.jpg  \n",
            "  inflating: Split_smol/val/Vascular lesion/ISIC_0033991.jpg  \n"
          ]
        }
      ]
    },
    {
      "cell_type": "code",
      "source": [
        "# move dataset to drive\n",
        "!mv /content/Split_smol /content/drive/MyDrive/datasets"
      ],
      "metadata": {
        "id": "LuDbycOppiX0"
      },
      "execution_count": null,
      "outputs": []
    },
    {
      "cell_type": "code",
      "source": [
        "import os\n",
        "import shutil\n",
        "\n",
        "# Define paths\n",
        "base_path = \"/content/drive/MyDrive/datasets/Split_smol\"\n",
        "train_path = os.path.join(base_path, \"train\")\n",
        "val_path = os.path.join(base_path, \"val\")\n",
        "\n",
        "# List of class names\n",
        "class_names = [\"Actinic keratosis\", \"Atopic Dermatitis\", \"Benign keratosis\",\n",
        "               \"Dermatofibroma\", \"Melanocytic nevus\", \"Melanoma\",\n",
        "               \"Squamous cell carcinoma\", \"Tinea Ringworm Candidiasis\",\n",
        "               \"Vascular lesion\"]\n",
        "\n",
        "# Move images from val to train\n",
        "for class_name in class_names:\n",
        "    train_class_path = os.path.join(train_path, class_name)\n",
        "    val_class_path = os.path.join(val_path, class_name)\n",
        "\n",
        "    # Move images\n",
        "    for filename in os.listdir(val_class_path):\n",
        "        src = os.path.join(val_class_path, filename)\n",
        "        dst = os.path.join(train_class_path, filename)\n",
        "\n",
        "        # Handle filename conflicts by adding a suffix\n",
        "        counter = 1\n",
        "        while os.path.exists(dst):\n",
        "            base, extension = os.path.splitext(filename)\n",
        "            new_filename = f\"{base}_{counter}{extension}\"\n",
        "            dst = os.path.join(train_class_path, new_filename)\n",
        "            counter += 1\n",
        "\n",
        "        shutil.move(src, dst)\n",
        "\n",
        "print(\"Images moved successfully.\")"
      ],
      "metadata": {
        "colab": {
          "base_uri": "https://localhost:8080/"
        },
        "id": "TTmzeeTUcWg9",
        "outputId": "d02f467d-f1c2-4608-91eb-5212ff6cf3f4"
      },
      "execution_count": null,
      "outputs": [
        {
          "output_type": "stream",
          "name": "stdout",
          "text": [
            "Images moved successfully.\n"
          ]
        }
      ]
    },
    {
      "cell_type": "code",
      "source": [
        "new_folders = [\"Actinic keratosis\", \"Atopic Dermatitis\", \"Benign keratosis\",\n",
        "               \"Dermatofibroma\", \"Melanocytic nevus\", \"Melanoma\",\n",
        "               \"Squamous cell carcinoma\", \"Tinea Ringworm Candidiasis\",\n",
        "               \"Vascular lesion\"]\n",
        "\n",
        "# count the images\n",
        "for folder in new_folders:\n",
        "    folder_path = os.path.join(\"/content/drive/MyDrive/datasets/Split_smol/train\", folder)\n",
        "\n",
        "    # Count the number of images in the folder\n",
        "    num_images = len(os.listdir(folder_path))\n",
        "    print(f\"{folder}: {num_images} images\")"
      ],
      "metadata": {
        "colab": {
          "base_uri": "https://localhost:8080/"
        },
        "id": "UoL9b7fNfPFn",
        "outputId": "a9dd012a-8ce2-4301-d891-3de6f5b150b6"
      },
      "execution_count": null,
      "outputs": [
        {
          "output_type": "stream",
          "name": "stdout",
          "text": [
            "Actinic keratosis: 100 images\n",
            "Atopic Dermatitis: 102 images\n",
            "Benign keratosis: 100 images\n",
            "Dermatofibroma: 100 images\n",
            "Melanocytic nevus: 100 images\n",
            "Melanoma: 100 images\n",
            "Squamous cell carcinoma: 100 images\n",
            "Tinea Ringworm Candidiasis: 76 images\n",
            "Vascular lesion: 100 images\n"
          ]
        }
      ]
    },
    {
      "cell_type": "code",
      "source": [
        "# change image names\n",
        "# Define the folders inside the selected images folder\n",
        "selected_folders = [\"Actinic keratosis\", \"Atopic Dermatitis\", \"Benign keratosis\",\n",
        "               \"Dermatofibroma\", \"Melanocytic nevus\", \"Melanoma\",\n",
        "               \"Squamous cell carcinoma\", \"Tinea Ringworm Candidiasis\",\n",
        "               \"Vascular lesion\"]\n",
        "\n",
        "selected_images_folder = '/content/drive/MyDrive/datasets/Split_smol/train'\n",
        "\n",
        "# Mapping of folder names to abbreviations\n",
        "folder_name_to_abbreviation = {\n",
        "    \"Actinic keratosis\": \"Ak\",\n",
        "    \"Atopic Dermatitis\": \"AD\",\n",
        "    \"Benign keratosis\": \"Bk\",\n",
        "    \"Dermatofibroma\": \"D\",\n",
        "    \"Melanocytic nevus\": \"Mn\",\n",
        "    \"Melanoma\": \"M\",\n",
        "    \"Squamous cell carcinoma\": \"Scc\",\n",
        "    \"Tinea Ringworm Candidiasis\": \"TRC\",\n",
        "    \"Vascular lesion\": \"Vl\"\n",
        "}\n",
        "\n",
        "# Rename and count the images\n",
        "for folder in selected_folders:\n",
        "    folder_path = os.path.join(selected_images_folder, folder)\n",
        "    all_images = os.listdir(folder_path)\n",
        "\n",
        "    # Rename the images using the corresponding abbreviation\n",
        "    for idx, image in enumerate(all_images, start=1):\n",
        "        abbreviation = folder_name_to_abbreviation.get(folder, folder[:2].upper())  # Use first two characters as abbreviation if not found\n",
        "        new_filename = f\"{abbreviation}_{idx}.JPG\"\n",
        "        source_path = os.path.join(folder_path, image)\n",
        "        target_path = os.path.join(folder_path, new_filename)\n",
        "        os.rename(source_path, target_path)\n",
        "\n",
        "    # Count the number of images in the folder\n",
        "    num_images = len(os.listdir(folder_path))\n",
        "    print(f\"{folder}: {num_images} images\")"
      ],
      "metadata": {
        "colab": {
          "base_uri": "https://localhost:8080/"
        },
        "id": "J71z8EcxtuUw",
        "outputId": "3e0ccc62-1373-4bb7-d87c-314df5d668e8"
      },
      "execution_count": null,
      "outputs": [
        {
          "output_type": "stream",
          "name": "stdout",
          "text": [
            "Actinic keratosis: 100 images\n",
            "Atopic Dermatitis: 102 images\n",
            "Benign keratosis: 100 images\n",
            "Dermatofibroma: 100 images\n",
            "Melanocytic nevus: 100 images\n",
            "Melanoma: 100 images\n",
            "Squamous cell carcinoma: 100 images\n",
            "Tinea Ringworm Candidiasis: 76 images\n",
            "Vascular lesion: 100 images\n"
          ]
        }
      ]
    },
    {
      "cell_type": "code",
      "source": [
        "base_dir = \"/content/drive/MyDrive/datasets/Split_smol/train\"\n",
        "img_size = 224\n",
        "\n",
        "# 5 class labels\n",
        "class_labels = {\n",
        "    \"Actinic keratosis\": 0,\n",
        "    \"Atopic Dermatitis\": 1,\n",
        "    \"Benign keratosis\": 2,\n",
        "    \"Dermatofibroma\": 3,\n",
        "    \"Melanocytic nevus\": 4\n",
        "}\n",
        "\n",
        "traindata = []  # List to store [img_array, label] pairs\n",
        "\n",
        "# Loop through the selected classes\n",
        "for class_folder in class_labels:\n",
        "    class_folder_path = os.path.join(base_dir, class_folder)\n",
        "\n",
        "    if os.path.isdir(class_folder_path):\n",
        "        img_files = [f for f in os.listdir(class_folder_path) if f.endswith(('.JPG'))]\n",
        "\n",
        "        # Loop through all images in the class folder\n",
        "        for image_file in img_files:\n",
        "            image_path = os.path.join(class_folder_path, image_file)\n",
        "\n",
        "            # Read the image\n",
        "            image = cv2.imread(image_path)\n",
        "\n",
        "            # Check if the image is in RGB format\n",
        "            if image.shape[2] == 3:\n",
        "                new_img_array = cv2.resize(image, (img_size, img_size))\n",
        "            else:\n",
        "                # Convert BGR to RGB\n",
        "                back_to_rgb = cv2.cvtColor(image, cv2.COLOR_BGR2RGB)\n",
        "                new_img_array = cv2.resize(back_to_rgb, (img_size, img_size))\n",
        "\n",
        "            # Assign label based on class_labels dictionary\n",
        "            label = class_labels[class_folder]\n",
        "\n",
        "            # Append the image array and label to the training data\n",
        "            traindata.append([new_img_array, label])\n",
        "\n",
        "# Shuffle the training data\n",
        "np.random.shuffle(traindata)"
      ],
      "metadata": {
        "id": "AjCRkZYZqq7B"
      },
      "execution_count": null,
      "outputs": []
    },
    {
      "cell_type": "code",
      "source": [
        "len(traindata)"
      ],
      "metadata": {
        "colab": {
          "base_uri": "https://localhost:8080/"
        },
        "id": "0prbqMswsPJO",
        "outputId": "7323578e-5d81-4464-fbe0-e97d3a9cbf3d"
      },
      "execution_count": null,
      "outputs": [
        {
          "output_type": "execute_result",
          "data": {
            "text/plain": [
              "502"
            ]
          },
          "metadata": {},
          "execution_count": 13
        }
      ]
    },
    {
      "cell_type": "code",
      "source": [
        "traindata[0][0].shape"
      ],
      "metadata": {
        "colab": {
          "base_uri": "https://localhost:8080/"
        },
        "id": "4PXlDj6dsbvc",
        "outputId": "524803c0-0103-490b-d593-b5ae4eb7caef"
      },
      "execution_count": null,
      "outputs": [
        {
          "output_type": "execute_result",
          "data": {
            "text/plain": [
              "(224, 224, 3)"
            ]
          },
          "metadata": {},
          "execution_count": 14
        }
      ]
    },
    {
      "cell_type": "code",
      "source": [
        "traindata[7][1]"
      ],
      "metadata": {
        "colab": {
          "base_uri": "https://localhost:8080/"
        },
        "id": "buitJOwWvmhn",
        "outputId": "e53b56a4-e13e-471d-cdb8-65c4f41fcf0d"
      },
      "execution_count": null,
      "outputs": [
        {
          "output_type": "execute_result",
          "data": {
            "text/plain": [
              "2"
            ]
          },
          "metadata": {},
          "execution_count": 15
        }
      ]
    },
    {
      "cell_type": "code",
      "source": [
        "X = []\n",
        "y = []\n",
        "img_size = 224\n",
        "\n",
        "for features, labels in traindata:\n",
        "    X.append(features)\n",
        "    y.append(labels)\n",
        "\n",
        "# reshape\n",
        "X = np.array(X).reshape(-1, img_size, img_size, 3)\n",
        "y = np.array(y)"
      ],
      "metadata": {
        "id": "h5IiPUvXvo9H"
      },
      "execution_count": null,
      "outputs": []
    },
    {
      "cell_type": "code",
      "source": [
        "X.shape, y.shape"
      ],
      "metadata": {
        "colab": {
          "base_uri": "https://localhost:8080/"
        },
        "id": "bQWbtlkev1WX",
        "outputId": "fe80e5b4-2f4f-4518-a633-18b58ed7bef7"
      },
      "execution_count": null,
      "outputs": [
        {
          "output_type": "execute_result",
          "data": {
            "text/plain": [
              "((502, 224, 224, 3), (502,))"
            ]
          },
          "metadata": {},
          "execution_count": 17
        }
      ]
    },
    {
      "cell_type": "code",
      "source": [
        "# create new diectory to save models\n",
        "# Specify the path of the existing folder\n",
        "existing_folder_path = '/content/drive/MyDrive/datasets/Split_smol'\n",
        "\n",
        "# Specify the name of the new directory\n",
        "new_directory_name = 'models'\n",
        "\n",
        "# Create the full path for the new directory\n",
        "new_directory_path = os.path.join(existing_folder_path, new_directory_name)\n",
        "\n",
        "# Check if the directory already exists, if not, create it\n",
        "if not os.path.exists(new_directory_path):\n",
        "    os.makedirs(new_directory_path)\n",
        "    print(f\"Directory '{new_directory_name}' created successfully.\")\n",
        "else:\n",
        "    print(f\"Directory '{new_directory_name}' already exists.\")"
      ],
      "metadata": {
        "colab": {
          "base_uri": "https://localhost:8080/"
        },
        "id": "DWFg9-CxzLKw",
        "outputId": "801e69cc-5eef-4c33-9687-586834f0e6ba"
      },
      "execution_count": null,
      "outputs": [
        {
          "output_type": "stream",
          "name": "stdout",
          "text": [
            "Directory 'models' created successfully.\n"
          ]
        }
      ]
    },
    {
      "cell_type": "code",
      "source": [
        "# create new diectory to save samples\n",
        "# Specify the path of the existing folder\n",
        "existing_folder_path = '/content/drive/MyDrive/datasets/Split_smol'\n",
        "\n",
        "# Specify the name of the new directory\n",
        "new_directory_name = 'samples'\n",
        "\n",
        "# Create the full path for the new directory\n",
        "new_directory_path = os.path.join(existing_folder_path, new_directory_name)\n",
        "\n",
        "# Check if the directory already exists, if not, create it\n",
        "if not os.path.exists(new_directory_path):\n",
        "    os.makedirs(new_directory_path)\n",
        "    print(f\"Directory '{new_directory_name}' created successfully.\")\n",
        "else:\n",
        "    print(f\"Directory '{new_directory_name}' already exists.\")"
      ],
      "metadata": {
        "colab": {
          "base_uri": "https://localhost:8080/"
        },
        "id": "8_Yx-zFf1Auf",
        "outputId": "c78808f0-e1c0-4767-9512-a1cd4880c132"
      },
      "execution_count": null,
      "outputs": [
        {
          "output_type": "stream",
          "name": "stdout",
          "text": [
            "Directory 'samples' created successfully.\n"
          ]
        }
      ]
    },
    {
      "cell_type": "code",
      "source": [
        "def create_folder(existing_folder_path, new_directory_name):\n",
        "  # Create the full path for the new directory\n",
        "  new_directory_path = os.path.join(existing_folder_path, new_directory_name)\n",
        "\n",
        "  # Check if the directory already exists, if not, create it\n",
        "  if not os.path.exists(new_directory_path):\n",
        "    os.makedirs(new_directory_path)\n",
        "    print(f\"Directory '{new_directory_name}' created successfully.\")\n",
        "  else:\n",
        "    print(f\"Directory '{new_directory_name}' already exists.\")"
      ],
      "metadata": {
        "id": "wdOLtmhC1VG6"
      },
      "execution_count": null,
      "outputs": []
    },
    {
      "cell_type": "code",
      "source": [
        "create_folder('/content/drive/MyDrive/datasets/Split_smol/samples', 'sample1')\n",
        "create_folder('/content/drive/MyDrive/datasets/Split_smol/samples', 'sample2')\n",
        "create_folder('/content/drive/MyDrive/datasets/Split_smol/samples', 'sample3')"
      ],
      "metadata": {
        "colab": {
          "base_uri": "https://localhost:8080/"
        },
        "id": "sI-ZZ7zJ1wxX",
        "outputId": "85d34c7b-49f7-4a4a-8f96-5a0d35297b1e"
      },
      "execution_count": null,
      "outputs": [
        {
          "output_type": "stream",
          "name": "stdout",
          "text": [
            "Directory 'sample1' created successfully.\n",
            "Directory 'sample2' created successfully.\n",
            "Directory 'sample3' created successfully.\n"
          ]
        }
      ]
    },
    {
      "cell_type": "code",
      "source": [
        "# first separate the test set - keep test common for all sample sizes\n",
        "X_train, X_test, y_train, y_test = train_test_split(X, y, test_size=0.15, random_state=42, stratify=y)"
      ],
      "metadata": {
        "id": "xhH4qCKRssdb"
      },
      "execution_count": null,
      "outputs": []
    },
    {
      "cell_type": "code",
      "source": [
        "print(X_train.shape, y_train.shape, X_test.shape, y_test.shape)"
      ],
      "metadata": {
        "colab": {
          "base_uri": "https://localhost:8080/"
        },
        "id": "qp6fEPOStTWn",
        "outputId": "6c9747c6-762d-4598-f463-4bad932b5e66"
      },
      "execution_count": null,
      "outputs": [
        {
          "output_type": "stream",
          "name": "stdout",
          "text": [
            "(426, 224, 224, 3) (426,) (76, 224, 224, 3) (76,)\n"
          ]
        }
      ]
    },
    {
      "cell_type": "code",
      "source": [
        "create_folder('/content/drive/MyDrive/datasets/Split_smol/samples', 'test_set')"
      ],
      "metadata": {
        "colab": {
          "base_uri": "https://localhost:8080/"
        },
        "id": "3gvROU2ztfkk",
        "outputId": "2da90701-2106-477f-929d-022b441e214b"
      },
      "execution_count": null,
      "outputs": [
        {
          "output_type": "stream",
          "name": "stdout",
          "text": [
            "Directory 'test_set' created successfully.\n"
          ]
        }
      ]
    },
    {
      "cell_type": "code",
      "source": [
        "# save test set\n",
        "save_dir = '/content/drive/MyDrive/datasets/Split_smol/samples/test_set/'\n",
        "\n",
        "np.save(save_dir + 'X_test.npy', X_test)\n",
        "np.save(save_dir + 'y_test.npy', y_test)"
      ],
      "metadata": {
        "id": "GDz2-AxmtwP9"
      },
      "execution_count": null,
      "outputs": []
    },
    {
      "cell_type": "code",
      "source": [
        "# sample creation - sample 2, 3\n",
        "X_sample_2, X_temp, y_sample_2, y_temp = train_test_split(X_train, y_train, test_size=0.5, random_state=42, stratify=y_train)\n",
        "X_sample_3, X_temp, y_sample_3, y_temp = train_test_split(X_train, y_train, test_size=0.75, random_state=42, stratify=y_train)"
      ],
      "metadata": {
        "id": "queNT3Wyvy8d"
      },
      "execution_count": null,
      "outputs": []
    },
    {
      "cell_type": "code",
      "source": [
        "print(X_sample_2.shape, y_sample_2.shape, X_sample_3.shape, y_sample_3.shape)"
      ],
      "metadata": {
        "colab": {
          "base_uri": "https://localhost:8080/"
        },
        "id": "xLTpUSCrwoBM",
        "outputId": "aa07871c-2e5d-4ee4-e877-4c01b56aca62"
      },
      "execution_count": null,
      "outputs": [
        {
          "output_type": "stream",
          "name": "stdout",
          "text": [
            "(213, 224, 224, 3) (213,) (106, 224, 224, 3) (106,)\n"
          ]
        }
      ]
    },
    {
      "cell_type": "code",
      "source": [
        "def create_splits_and_save(X, y, save_dir):\n",
        "  X_train, X_val, y_train, y_val = train_test_split(X, y, test_size=75/426, random_state=42, stratify=y)\n",
        "  # save\n",
        "  np.save(save_dir + 'X_train.npy', X_train)\n",
        "  np.save(save_dir + 'X_val.npy', X_val)\n",
        "  np.save(save_dir + 'y_train.npy', y_train)\n",
        "  np.save(save_dir + 'y_val.npy', y_val)\n",
        "\n",
        "  print(X_train.shape, y_train.shape, X_val.shape, y_val.shape)"
      ],
      "metadata": {
        "id": "isIx3lShqn5K"
      },
      "execution_count": null,
      "outputs": []
    },
    {
      "cell_type": "code",
      "source": [
        "# sample splits\n",
        "create_splits_and_save(X_train, y_train, '/content/drive/MyDrive/datasets/Split_smol/samples/sample1/')\n",
        "create_splits_and_save(X_sample_2, y_sample_2, '/content/drive/MyDrive/datasets/Split_smol/samples/sample2/')\n",
        "create_splits_and_save(X_sample_3, y_sample_3, '/content/drive/MyDrive/datasets/Split_smol/samples/sample3/')"
      ],
      "metadata": {
        "colab": {
          "base_uri": "https://localhost:8080/"
        },
        "id": "0m0qfQZNp8y1",
        "outputId": "5f7e117a-1240-44ff-df84-22be0a213743"
      },
      "execution_count": null,
      "outputs": [
        {
          "output_type": "stream",
          "name": "stdout",
          "text": [
            "(351, 224, 224, 3) (351,) (75, 224, 224, 3) (75,)\n",
            "(175, 224, 224, 3) (175,) (38, 224, 224, 3) (38,)\n",
            "(87, 224, 224, 3) (87,) (19, 224, 224, 3) (19,)\n"
          ]
        }
      ]
    },
    {
      "cell_type": "code",
      "source": [
        "np.sum(y_sample_2==0)"
      ],
      "metadata": {
        "colab": {
          "base_uri": "https://localhost:8080/"
        },
        "id": "ZqeGqfgY54iA",
        "outputId": "892e9a01-b737-486f-fff5-b0ae5c0aa467"
      },
      "execution_count": null,
      "outputs": [
        {
          "output_type": "execute_result",
          "data": {
            "text/plain": [
              "42"
            ]
          },
          "metadata": {},
          "execution_count": 34
        }
      ]
    },
    {
      "cell_type": "code",
      "source": [
        "# load train data\n",
        "save_dir_sample3 = '/content/drive/MyDrive/datasets/Split_smol/samples/sample3/'\n",
        "save_dir_sample2 = '/content/drive/MyDrive/datasets/Split_smol/samples/sample2/'\n",
        "save_dir_sample1 = '/content/drive/MyDrive/datasets/Split_smol/samples/sample1/'\n",
        "\n",
        "X_train_3 = np.load(save_dir_sample3 + 'X_train.npy')\n",
        "y_train_3 = np.load(save_dir_sample3 + 'y_train.npy')\n",
        "\n",
        "X_train_2 = np.load(save_dir_sample2 + 'X_train.npy')\n",
        "y_train_2 = np.load(save_dir_sample2 + 'y_train.npy')\n",
        "\n",
        "X_train_1 = np.load(save_dir_sample1 + 'X_train.npy')\n",
        "y_train_1 = np.load(save_dir_sample1 + 'y_train.npy')"
      ],
      "metadata": {
        "id": "HeDmnRRD9Bsi"
      },
      "execution_count": null,
      "outputs": []
    },
    {
      "cell_type": "code",
      "source": [
        "# Concatenate data and labels\n",
        "X_train = np.concatenate((X_train_1, X_train_2, X_train_3), axis=0)\n",
        "y_train = np.concatenate((y_train_1, y_train_2, y_train_3), axis=0)"
      ],
      "metadata": {
        "id": "A2PFqHi39AyX"
      },
      "execution_count": null,
      "outputs": []
    },
    {
      "cell_type": "code",
      "source": [
        "# Get the number of samples\n",
        "num_samples = X_train.shape[0]\n",
        "\n",
        "# Generate a random permutation of indices\n",
        "permutation = np.random.permutation(num_samples)\n",
        "\n",
        "# Apply the same permutation to both X_train and y_train\n",
        "X_train_shuffled = X_train[permutation]\n",
        "y_train_shuffled = y_train[permutation]"
      ],
      "metadata": {
        "id": "kRGwkboWiqKD"
      },
      "execution_count": null,
      "outputs": []
    },
    {
      "cell_type": "code",
      "source": [
        "def custom_data_augmentation(images, labels):\n",
        "    augmented_images = []\n",
        "    augmented_labels = []\n",
        "\n",
        "    unique_labels = np.unique(labels)\n",
        "\n",
        "    for label in unique_labels:\n",
        "        # Find indices of images belonging to the current class\n",
        "        indices = np.where(labels == label)[0]\n",
        "\n",
        "        for index in indices:\n",
        "            # Apply a random augmentation to every image in the class\n",
        "            random_choice = np.random.choice([0, 1, 2, 3, 4], size=1)[0]\n",
        "\n",
        "            if random_choice == 0:\n",
        "                # Horizontal flip\n",
        "                augmented_images.append(cv2.flip(images[index], 1))\n",
        "                augmented_labels.append(label)\n",
        "            elif random_choice == 1:\n",
        "                # Vertical flip\n",
        "                augmented_images.append(cv2.flip(images[index], 0))\n",
        "                augmented_labels.append(label)\n",
        "            elif random_choice == 2:\n",
        "                # 90-degree rotation\n",
        "                augmented_images.append(np.rot90(images[index], k=1, axes=(0, 1)))\n",
        "                augmented_labels.append(label)\n",
        "            elif random_choice == 3:\n",
        "                # 180-degree rotation\n",
        "                augmented_images.append(np.rot90(images[index], k=2, axes=(0, 1)))\n",
        "                augmented_labels.append(label)\n",
        "            else:\n",
        "                # 270-degree rotation\n",
        "                augmented_images.append(np.rot90(images[index], k=3, axes=(0, 1)))\n",
        "                augmented_labels.append(label)\n",
        "\n",
        "    return np.array(augmented_images), np.array(augmented_labels)"
      ],
      "metadata": {
        "id": "OE9B2BFX8_zY"
      },
      "execution_count": null,
      "outputs": []
    },
    {
      "cell_type": "code",
      "source": [
        "augmented_X_train, augmented_y_train = custom_data_augmentation(X_train_shuffled, y_train_shuffled)"
      ],
      "metadata": {
        "id": "5pMJqDAJ_LYX"
      },
      "execution_count": null,
      "outputs": []
    },
    {
      "cell_type": "code",
      "source": [
        "X_train_shuffled.shape, y_train_shuffled.shape, augmented_X_train.shape, augmented_y_train.shape"
      ],
      "metadata": {
        "colab": {
          "base_uri": "https://localhost:8080/"
        },
        "id": "1RRe8dg0_5nV",
        "outputId": "404b8edd-2dea-4f41-bb35-13ed7f081053"
      },
      "execution_count": null,
      "outputs": [
        {
          "output_type": "execute_result",
          "data": {
            "text/plain": [
              "((613, 224, 224, 3), (613,), (613, 224, 224, 3), (613,))"
            ]
          },
          "metadata": {},
          "execution_count": 34
        }
      ]
    },
    {
      "cell_type": "code",
      "source": [
        "y_train_shuffled[11], augmented_y_train[500]"
      ],
      "metadata": {
        "colab": {
          "base_uri": "https://localhost:8080/"
        },
        "id": "x2oxn6Wy_7pX",
        "outputId": "b6ee5768-eab6-4ed8-8e27-43ca8a35eadd"
      },
      "execution_count": null,
      "outputs": [
        {
          "output_type": "execute_result",
          "data": {
            "text/plain": [
              "(1, 4)"
            ]
          },
          "metadata": {},
          "execution_count": 62
        }
      ]
    },
    {
      "cell_type": "code",
      "source": [
        "np.sum(augmented_y_train==4)"
      ],
      "metadata": {
        "colab": {
          "base_uri": "https://localhost:8080/"
        },
        "id": "uX5Y-01DCcM2",
        "outputId": "44c8cc20-ad9d-4031-8e0a-9f4b72f209a3"
      },
      "execution_count": null,
      "outputs": [
        {
          "output_type": "execute_result",
          "data": {
            "text/plain": [
              "122"
            ]
          },
          "metadata": {},
          "execution_count": 69
        }
      ]
    },
    {
      "cell_type": "code",
      "source": [
        "del num_samples\n",
        "del permutation"
      ],
      "metadata": {
        "id": "KJSRH5tmD5Lh"
      },
      "execution_count": null,
      "outputs": []
    },
    {
      "cell_type": "code",
      "source": [
        "# Get the number of samples\n",
        "num_samples = augmented_X_train.shape[0]\n",
        "\n",
        "# Generate a random permutation of indices\n",
        "permutation = np.random.permutation(num_samples)\n",
        "\n",
        "# Apply the same permutation to both X_train and y_train\n",
        "X_train_augmented = augmented_X_train[permutation]\n",
        "y_train_augmented = augmented_y_train[permutation]"
      ],
      "metadata": {
        "id": "uFiwIpGKDU8s"
      },
      "execution_count": null,
      "outputs": []
    },
    {
      "cell_type": "code",
      "source": [
        "np.sum(y_train_augmented==4)"
      ],
      "metadata": {
        "colab": {
          "base_uri": "https://localhost:8080/"
        },
        "id": "cmLBXGTvD91m",
        "outputId": "f1808d10-db07-45f4-85de-fea44351e544"
      },
      "execution_count": null,
      "outputs": [
        {
          "output_type": "execute_result",
          "data": {
            "text/plain": [
              "122"
            ]
          },
          "metadata": {},
          "execution_count": 73
        }
      ]
    },
    {
      "cell_type": "code",
      "source": [
        "X_train_augmented.shape, X_train_1.shape, X_train_2.shape, X_train_3.shape"
      ],
      "metadata": {
        "colab": {
          "base_uri": "https://localhost:8080/"
        },
        "id": "gwSGNP6iEA_I",
        "outputId": "f05cacb7-431f-4d9b-b4e5-9af358827046"
      },
      "execution_count": null,
      "outputs": [
        {
          "output_type": "execute_result",
          "data": {
            "text/plain": [
              "((613, 224, 224, 3), (351, 224, 224, 3), (175, 224, 224, 3), (87, 224, 224, 3))"
            ]
          },
          "metadata": {},
          "execution_count": 76
        }
      ]
    },
    {
      "cell_type": "code",
      "source": [
        "def create_folder(existing_folder_path, new_directory_name):\n",
        "  # Create the full path for the new directory\n",
        "  new_directory_path = os.path.join(existing_folder_path, new_directory_name)\n",
        "\n",
        "  # Check if the directory already exists, if not, create it\n",
        "  if not os.path.exists(new_directory_path):\n",
        "    os.makedirs(new_directory_path)\n",
        "    print(f\"Directory '{new_directory_name}' created successfully.\")\n",
        "  else:\n",
        "    print(f\"Directory '{new_directory_name}' already exists.\")"
      ],
      "metadata": {
        "id": "qzuMSl8nFgmM"
      },
      "execution_count": null,
      "outputs": []
    },
    {
      "cell_type": "code",
      "source": [
        "create_folder('/content/drive/MyDrive/datasets/Split_smol', 'DA_2')"
      ],
      "metadata": {
        "colab": {
          "base_uri": "https://localhost:8080/"
        },
        "id": "KtBHlwcXFkRr",
        "outputId": "e273d36f-3670-4f8b-9d15-fe73029e1702"
      },
      "execution_count": null,
      "outputs": [
        {
          "output_type": "stream",
          "name": "stdout",
          "text": [
            "Directory 'DA_2' created successfully.\n"
          ]
        }
      ]
    },
    {
      "cell_type": "code",
      "source": [
        "create_folder('/content/drive/MyDrive/datasets/Split_smol/DA_2', 'sample1')\n",
        "create_folder('/content/drive/MyDrive/datasets/Split_smol/DA_2', 'sample2')\n",
        "create_folder('/content/drive/MyDrive/datasets/Split_smol/DA_2', 'sample3')"
      ],
      "metadata": {
        "colab": {
          "base_uri": "https://localhost:8080/"
        },
        "id": "mpuhjf0NFt_D",
        "outputId": "1eec6569-4e8a-4ca7-f871-86c8c7e6db24"
      },
      "execution_count": null,
      "outputs": [
        {
          "output_type": "stream",
          "name": "stdout",
          "text": [
            "Directory 'sample1' created successfully.\n",
            "Directory 'sample2' created successfully.\n",
            "Directory 'sample3' created successfully.\n"
          ]
        }
      ]
    },
    {
      "cell_type": "code",
      "source": [
        "X_train_augmented_1, X_temp, y_train_augmented_1, y_temp = train_test_split(X_train_augmented, y_train_augmented, test_size=262/613, random_state=42, stratify=y_train_augmented)"
      ],
      "metadata": {
        "id": "y1R6P1JxHU3g"
      },
      "execution_count": null,
      "outputs": []
    },
    {
      "cell_type": "code",
      "source": [
        "X_train_augmented_1.shape, np.sum(y_train_augmented_1==0)"
      ],
      "metadata": {
        "colab": {
          "base_uri": "https://localhost:8080/"
        },
        "id": "ESl4W1wCH9iM",
        "outputId": "cd3f9584-1c19-42a5-ef13-ffef0a20cc4b"
      },
      "execution_count": null,
      "outputs": [
        {
          "output_type": "execute_result",
          "data": {
            "text/plain": [
              "((351, 224, 224, 3), 70)"
            ]
          },
          "metadata": {},
          "execution_count": 85
        }
      ]
    },
    {
      "cell_type": "code",
      "source": [
        "X_train_augmented_2, X_temp, y_train_augmented_2, y_temp = train_test_split(X_train_augmented, y_train_augmented, test_size=438/613, random_state=42, stratify=y_train_augmented)"
      ],
      "metadata": {
        "id": "rwQN8xxvIH4P"
      },
      "execution_count": null,
      "outputs": []
    },
    {
      "cell_type": "code",
      "source": [
        "X_train_augmented_2.shape, np.sum(y_train_augmented_2==4)"
      ],
      "metadata": {
        "colab": {
          "base_uri": "https://localhost:8080/"
        },
        "id": "soJtV7ayIY9y",
        "outputId": "441ea329-27f5-4b89-ccb7-112768f46db7"
      },
      "execution_count": null,
      "outputs": [
        {
          "output_type": "execute_result",
          "data": {
            "text/plain": [
              "((175, 224, 224, 3), 35)"
            ]
          },
          "metadata": {},
          "execution_count": 88
        }
      ]
    },
    {
      "cell_type": "code",
      "source": [
        "X_train_augmented_3, X_temp, y_train_augmented_3, y_temp = train_test_split(X_train_augmented, y_train_augmented, test_size=526/613, random_state=42, stratify=y_train_augmented)"
      ],
      "metadata": {
        "id": "y0U6aZuLIcre"
      },
      "execution_count": null,
      "outputs": []
    },
    {
      "cell_type": "code",
      "source": [
        "X_train_augmented_3.shape, np.sum(y_train_augmented_3==0)"
      ],
      "metadata": {
        "colab": {
          "base_uri": "https://localhost:8080/"
        },
        "id": "K4ukJofCIoa6",
        "outputId": "8c7f16b1-2b8b-4029-c199-aeeda4d03564"
      },
      "execution_count": null,
      "outputs": [
        {
          "output_type": "execute_result",
          "data": {
            "text/plain": [
              "((87, 224, 224, 3), 17)"
            ]
          },
          "metadata": {},
          "execution_count": 91
        }
      ]
    },
    {
      "cell_type": "code",
      "source": [
        "# Concatenate the original and augmented datasets\n",
        "X_combined_1 = np.concatenate([X_train_1, X_train_augmented_1])\n",
        "y_combined_1 = np.concatenate([y_train_1, y_train_augmented_1])\n",
        "\n",
        "# Create shuffled indices\n",
        "shuffled_indices = np.random.permutation(len(X_combined_1))\n",
        "\n",
        "# Shuffle both arrays using the same indices\n",
        "X_final_1 = X_combined_1[shuffled_indices]\n",
        "y_final_1 = y_combined_1[shuffled_indices]\n",
        "\n",
        "# Concatenate the original and augmented datasets for subset 2\n",
        "X_combined_2 = np.concatenate([X_train_2, X_train_augmented_2])\n",
        "y_combined_2 = np.concatenate([y_train_2, y_train_augmented_2])\n",
        "\n",
        "# Create shuffled indices\n",
        "shuffled_indices_2 = np.random.permutation(len(X_combined_2))\n",
        "\n",
        "# Shuffle both arrays using the same indices\n",
        "X_final_2 = X_combined_2[shuffled_indices_2]\n",
        "y_final_2 = y_combined_2[shuffled_indices_2]\n",
        "\n",
        "# Concatenate the original and augmented datasets for subset 3\n",
        "X_combined_3 = np.concatenate([X_train_3, X_train_augmented_3])\n",
        "y_combined_3 = np.concatenate([y_train_3, y_train_augmented_3])\n",
        "\n",
        "# Create shuffled indices\n",
        "shuffled_indices_3 = np.random.permutation(len(X_combined_3))\n",
        "\n",
        "# Shuffle both arrays using the same indices\n",
        "X_final_3 = X_combined_3[shuffled_indices_3]\n",
        "y_final_3 = y_combined_3[shuffled_indices_3]"
      ],
      "metadata": {
        "id": "AA4ChpDeItv1"
      },
      "execution_count": null,
      "outputs": []
    },
    {
      "cell_type": "code",
      "source": [
        "print(\"Shapes for Subset 1:\")\n",
        "print(\"X_final_1:\", X_final_1.shape)\n",
        "print(\"y_final_1:\", y_final_1.shape)\n",
        "\n",
        "print(\"\\nShapes for Subset 2:\")\n",
        "print(\"X_final_2:\", X_final_2.shape)\n",
        "print(\"y_final_2:\", y_final_2.shape)\n",
        "\n",
        "print(\"\\nShapes for Subset 3:\")\n",
        "print(\"X_final_3:\", X_final_3.shape)\n",
        "print(\"y_final_3:\", y_final_3.shape)"
      ],
      "metadata": {
        "colab": {
          "base_uri": "https://localhost:8080/"
        },
        "id": "9-zKSYV9K4ok",
        "outputId": "0b791733-b243-4f7b-e7c4-cb47e605ba49"
      },
      "execution_count": null,
      "outputs": [
        {
          "output_type": "stream",
          "name": "stdout",
          "text": [
            "Shapes for Subset 1:\n",
            "X_final_1: (702, 224, 224, 3)\n",
            "y_final_1: (702,)\n",
            "\n",
            "Shapes for Subset 2:\n",
            "X_final_2: (350, 224, 224, 3)\n",
            "y_final_2: (350,)\n",
            "\n",
            "Shapes for Subset 3:\n",
            "X_final_3: (174, 224, 224, 3)\n",
            "y_final_3: (174,)\n"
          ]
        }
      ]
    },
    {
      "cell_type": "code",
      "source": [
        "# Specify the directory paths\n",
        "save_dir_sample1 = '/content/drive/MyDrive/datasets/Split_smol/DA_2/sample1'\n",
        "save_dir_sample2 = '/content/drive/MyDrive/datasets/Split_smol/DA_2/sample2'\n",
        "save_dir_sample3 = '/content/drive/MyDrive/datasets/Split_smol/DA_2/sample3'\n",
        "\n",
        "# Save final arrays for Subset 1\n",
        "np.save(os.path.join(save_dir_sample1, 'X_train.npy'), X_final_1)\n",
        "np.save(os.path.join(save_dir_sample1, 'y_train.npy'), y_final_1)\n",
        "\n",
        "# Save final arrays for Subset 2\n",
        "np.save(os.path.join(save_dir_sample2, 'X_train.npy'), X_final_2)\n",
        "np.save(os.path.join(save_dir_sample2, 'y_train.npy'), y_final_2)\n",
        "\n",
        "# Save final arrays for Subset 3\n",
        "np.save(os.path.join(save_dir_sample3, 'X_train.npy'), X_final_3)\n",
        "np.save(os.path.join(save_dir_sample3, 'y_train.npy'), y_final_3)"
      ],
      "metadata": {
        "id": "JXsYJiEPGaB9"
      },
      "execution_count": null,
      "outputs": []
    },
    {
      "cell_type": "code",
      "source": [],
      "metadata": {
        "id": "kk5WMkOGLgpj"
      },
      "execution_count": null,
      "outputs": []
    }
  ]
}